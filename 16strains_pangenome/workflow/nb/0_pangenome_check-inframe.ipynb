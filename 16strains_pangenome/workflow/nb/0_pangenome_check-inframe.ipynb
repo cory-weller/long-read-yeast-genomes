{
 "cells": [
  {
   "cell_type": "code",
   "execution_count": 1,
   "id": "cbe1d786-47de-4507-affd-a01d6717f957",
   "metadata": {},
   "outputs": [],
   "source": [
    "import pandas as pd\n",
    "from Bio import SeqIO\n",
    "from Bio.Seq import Seq\n",
    "import os\n",
    "import re\n",
    "import seaborn as sns\n",
    "import matplotlib.pyplot as plt"
   ]
  },
  {
   "cell_type": "code",
   "execution_count": 2,
   "id": "ec3762c1-713e-4320-a86e-271d81a3f8fc",
   "metadata": {},
   "outputs": [],
   "source": [
    "input_file = '../data/1011_pangenome/allORFs_pangenome.fasta'\n",
    "handle = []\n",
    "seq = []\n",
    "\n",
    "for record in SeqIO.parse(input_file, \"fasta\"):\n",
    "    handle.append(record.id)\n",
    "    seq.append(str(record.seq))"
   ]
  },
  {
   "cell_type": "code",
   "execution_count": 3,
   "id": "0b7b44eb-8e67-4e41-849c-4dec2ec5ed75",
   "metadata": {},
   "outputs": [],
   "source": [
    "df = pd.DataFrame({'handle':handle, 'seq':seq})"
   ]
  },
  {
   "cell_type": "code",
   "execution_count": 4,
   "id": "26c1d865-fc33-4a3d-830b-c4a7a585aa70",
   "metadata": {},
   "outputs": [
    {
     "name": "stderr",
     "output_type": "stream",
     "text": [
      "/data/chambersmj/conda/envs/alignparse-environment/lib/python3.9/site-packages/Bio/Seq.py:2979: BiopythonWarning: Partial codon, len(sequence) not a multiple of three. Explicitly trim the sequence or add trailing N before translation. This may become an error in future.\n",
      "  warnings.warn(\n"
     ]
    }
   ],
   "source": [
    "df['aa'] = df.seq.apply(lambda x: str(Seq(str(x)).translate()))"
   ]
  },
  {
   "cell_type": "code",
   "execution_count": 5,
   "id": "8ebbcf68-1ee6-44f1-af85-704be7e393dc",
   "metadata": {},
   "outputs": [],
   "source": [
    "# not divisible by 3\n",
    "df['odd_length'] = (df.seq.str.len() % 3) != 0"
   ]
  },
  {
   "cell_type": "code",
   "execution_count": 6,
   "id": "2e7a1821-1851-49c4-ad6a-8ee49d97bafe",
   "metadata": {},
   "outputs": [],
   "source": [
    "# premature stop codon\n",
    "df['premature_stop'] = df['aa'].str[:-1].str.contains(\"\\*\")"
   ]
  },
  {
   "cell_type": "code",
   "execution_count": 7,
   "id": "59e93ff9-e36e-48f1-9295-e3b519f71ada",
   "metadata": {},
   "outputs": [
    {
     "data": {
      "text/plain": [
       "(7796, 5)"
      ]
     },
     "execution_count": 7,
     "metadata": {},
     "output_type": "execute_result"
    }
   ],
   "source": [
    "df.shape"
   ]
  },
  {
   "cell_type": "code",
   "execution_count": 8,
   "id": "ac4ddaa2-b20e-48b1-aa6f-9409566f5e91",
   "metadata": {},
   "outputs": [
    {
     "data": {
      "text/html": [
       "<div>\n",
       "<style scoped>\n",
       "    .dataframe tbody tr th:only-of-type {\n",
       "        vertical-align: middle;\n",
       "    }\n",
       "\n",
       "    .dataframe tbody tr th {\n",
       "        vertical-align: top;\n",
       "    }\n",
       "\n",
       "    .dataframe thead th {\n",
       "        text-align: right;\n",
       "    }\n",
       "</style>\n",
       "<table border=\"1\" class=\"dataframe\">\n",
       "  <thead>\n",
       "    <tr style=\"text-align: right;\">\n",
       "      <th></th>\n",
       "      <th>handle</th>\n",
       "      <th>seq</th>\n",
       "      <th>aa</th>\n",
       "      <th>odd_length</th>\n",
       "      <th>premature_stop</th>\n",
       "    </tr>\n",
       "  </thead>\n",
       "  <tbody>\n",
       "    <tr>\n",
       "      <th>43</th>\n",
       "      <td>44-PUT_AA_TRASP-R.14848-</td>\n",
       "      <td>CCCGTTGCATTCTTCATAATCCTTGTTCTATAGGTCCCATTATTAT...</td>\n",
       "      <td>PVAFFIILVL*VPLLFCTLLFLIFVLYLCFVAILEKEMKNI*TILV...</td>\n",
       "      <td>True</td>\n",
       "      <td>True</td>\n",
       "    </tr>\n",
       "    <tr>\n",
       "      <th>44</th>\n",
       "      <td>45-PUT_IRON_TRASP-R.14849-</td>\n",
       "      <td>TTCAACGACTGAGAAGTCAGCTTACTATTGAAAAGGCAGTGAATTT...</td>\n",
       "      <td>FND*EVSLLLKRQ*IWWLHGSLLDYVIMRKHDVFLQVHRCDNDSQH...</td>\n",
       "      <td>True</td>\n",
       "      <td>True</td>\n",
       "    </tr>\n",
       "    <tr>\n",
       "      <th>45</th>\n",
       "      <td>46-PUT_LAC_TRASP-R.14850-</td>\n",
       "      <td>GAAGTAAGGTGCGCACACTGAAGCTGTTCCCTATCGCTTATCAACC...</td>\n",
       "      <td>EVRCAH*SCSLSLINHWQVIQPSTVICTLHIKR*GNMIVACIIMLS...</td>\n",
       "      <td>True</td>\n",
       "      <td>True</td>\n",
       "    </tr>\n",
       "    <tr>\n",
       "      <th>1746</th>\n",
       "      <td>1799-YAL030W</td>\n",
       "      <td>ATGTCGTCATCTACTCCCTTTGACCCTTATGCTCTATCCGAGCACG...</td>\n",
       "      <td>MSSSTPFDPYALSEHDEERPQNVQSKSRTAELQAVSTESHRVPSRK...</td>\n",
       "      <td>True</td>\n",
       "      <td>True</td>\n",
       "    </tr>\n",
       "    <tr>\n",
       "      <th>1843</th>\n",
       "      <td>1896-YBL026W_NumOfGenes_2</td>\n",
       "      <td>ATGCTTTTCTTCTCCTTTTTCAAGACTTTAGTTGACCAAGAAGTGG...</td>\n",
       "      <td>MLFFSFFKTLVDQEVVVEVCS**FTSEFPLIQEN*RVSYINF*KKS...</td>\n",
       "      <td>True</td>\n",
       "      <td>True</td>\n",
       "    </tr>\n",
       "    <tr>\n",
       "      <th>...</th>\n",
       "      <td>...</td>\n",
       "      <td>...</td>\n",
       "      <td>...</td>\n",
       "      <td>...</td>\n",
       "      <td>...</td>\n",
       "    </tr>\n",
       "    <tr>\n",
       "      <th>7781</th>\n",
       "      <td>7834-Q0255</td>\n",
       "      <td>ATGATTAAATGAACAATAATTAATATTTACTTATTATTAATATTTT...</td>\n",
       "      <td>MIK*TIINIYLLLIFLIIKNNNNNNNYNNILKYNKDIDLYSIQSPY...</td>\n",
       "      <td>True</td>\n",
       "      <td>True</td>\n",
       "    </tr>\n",
       "    <tr>\n",
       "      <th>7790</th>\n",
       "      <td>7843-RDN58-1_NumOfGenes_2</td>\n",
       "      <td>AAACTTTCAACAACGGATCTCTTGGTTCTCGCATCGATGAAGAACG...</td>\n",
       "      <td>KLSTTDLLVLASMKNAAKCDT*CELQNSVNHRIFERTLRPLVFQGA...</td>\n",
       "      <td>True</td>\n",
       "      <td>True</td>\n",
       "    </tr>\n",
       "    <tr>\n",
       "      <th>7791</th>\n",
       "      <td>7844-YMRCTy1-4_NumOfGenes_31_NumOfGenes_68</td>\n",
       "      <td>TGTTGGAATAAAAATCCACTATCGTCTATCAACTAATAGTTATATT...</td>\n",
       "      <td>CWNKNPLSSIN**LYYQYIIIYGVKMMT*VMRSCHRC*RKLKRKD*...</td>\n",
       "      <td>True</td>\n",
       "      <td>True</td>\n",
       "    </tr>\n",
       "    <tr>\n",
       "      <th>7793</th>\n",
       "      <td>7846-YGRWTy3-1_NumOfGenes_6</td>\n",
       "      <td>TGTTGTATCTCAAAATGAGATATGTCAGTATGACAATACGTCACCC...</td>\n",
       "      <td>CCISK*DMSV*QYVTLNVHKTHMKQPYNKTNNMRQNPTFPS*TTQS...</td>\n",
       "      <td>True</td>\n",
       "      <td>True</td>\n",
       "    </tr>\n",
       "    <tr>\n",
       "      <th>7794</th>\n",
       "      <td>7847-YHLWTy4-1_NumOfGenes_3_NumOfGenes_6</td>\n",
       "      <td>TGTTGGAACGAGAGTAATTGATAGTGACATGAGTTGCTATGGTAAC...</td>\n",
       "      <td>CWNESN***HELLW*QSNAYIVY*CTTRIRLSVIAPIAEGMLNEKL...</td>\n",
       "      <td>True</td>\n",
       "      <td>True</td>\n",
       "    </tr>\n",
       "  </tbody>\n",
       "</table>\n",
       "<p>180 rows × 5 columns</p>\n",
       "</div>"
      ],
      "text/plain": [
       "                                          handle  \\\n",
       "43                      44-PUT_AA_TRASP-R.14848-   \n",
       "44                    45-PUT_IRON_TRASP-R.14849-   \n",
       "45                     46-PUT_LAC_TRASP-R.14850-   \n",
       "1746                                1799-YAL030W   \n",
       "1843                   1896-YBL026W_NumOfGenes_2   \n",
       "...                                          ...   \n",
       "7781                                  7834-Q0255   \n",
       "7790                   7843-RDN58-1_NumOfGenes_2   \n",
       "7791  7844-YMRCTy1-4_NumOfGenes_31_NumOfGenes_68   \n",
       "7793                 7846-YGRWTy3-1_NumOfGenes_6   \n",
       "7794    7847-YHLWTy4-1_NumOfGenes_3_NumOfGenes_6   \n",
       "\n",
       "                                                    seq  \\\n",
       "43    CCCGTTGCATTCTTCATAATCCTTGTTCTATAGGTCCCATTATTAT...   \n",
       "44    TTCAACGACTGAGAAGTCAGCTTACTATTGAAAAGGCAGTGAATTT...   \n",
       "45    GAAGTAAGGTGCGCACACTGAAGCTGTTCCCTATCGCTTATCAACC...   \n",
       "1746  ATGTCGTCATCTACTCCCTTTGACCCTTATGCTCTATCCGAGCACG...   \n",
       "1843  ATGCTTTTCTTCTCCTTTTTCAAGACTTTAGTTGACCAAGAAGTGG...   \n",
       "...                                                 ...   \n",
       "7781  ATGATTAAATGAACAATAATTAATATTTACTTATTATTAATATTTT...   \n",
       "7790  AAACTTTCAACAACGGATCTCTTGGTTCTCGCATCGATGAAGAACG...   \n",
       "7791  TGTTGGAATAAAAATCCACTATCGTCTATCAACTAATAGTTATATT...   \n",
       "7793  TGTTGTATCTCAAAATGAGATATGTCAGTATGACAATACGTCACCC...   \n",
       "7794  TGTTGGAACGAGAGTAATTGATAGTGACATGAGTTGCTATGGTAAC...   \n",
       "\n",
       "                                                     aa  odd_length  \\\n",
       "43    PVAFFIILVL*VPLLFCTLLFLIFVLYLCFVAILEKEMKNI*TILV...        True   \n",
       "44    FND*EVSLLLKRQ*IWWLHGSLLDYVIMRKHDVFLQVHRCDNDSQH...        True   \n",
       "45    EVRCAH*SCSLSLINHWQVIQPSTVICTLHIKR*GNMIVACIIMLS...        True   \n",
       "1746  MSSSTPFDPYALSEHDEERPQNVQSKSRTAELQAVSTESHRVPSRK...        True   \n",
       "1843  MLFFSFFKTLVDQEVVVEVCS**FTSEFPLIQEN*RVSYINF*KKS...        True   \n",
       "...                                                 ...         ...   \n",
       "7781  MIK*TIINIYLLLIFLIIKNNNNNNNYNNILKYNKDIDLYSIQSPY...        True   \n",
       "7790  KLSTTDLLVLASMKNAAKCDT*CELQNSVNHRIFERTLRPLVFQGA...        True   \n",
       "7791  CWNKNPLSSIN**LYYQYIIIYGVKMMT*VMRSCHRC*RKLKRKD*...        True   \n",
       "7793  CCISK*DMSV*QYVTLNVHKTHMKQPYNKTNNMRQNPTFPS*TTQS...        True   \n",
       "7794  CWNESN***HELLW*QSNAYIVY*CTTRIRLSVIAPIAEGMLNEKL...        True   \n",
       "\n",
       "      premature_stop  \n",
       "43              True  \n",
       "44              True  \n",
       "45              True  \n",
       "1746            True  \n",
       "1843            True  \n",
       "...              ...  \n",
       "7781            True  \n",
       "7790            True  \n",
       "7791            True  \n",
       "7793            True  \n",
       "7794            True  \n",
       "\n",
       "[180 rows x 5 columns]"
      ]
     },
     "execution_count": 8,
     "metadata": {},
     "output_type": "execute_result"
    }
   ],
   "source": [
    "df.query('odd_length')"
   ]
  },
  {
   "cell_type": "code",
   "execution_count": 9,
   "id": "ed069f9c-6940-48be-a86d-2c307019d691",
   "metadata": {},
   "outputs": [
    {
     "data": {
      "text/html": [
       "<div>\n",
       "<style scoped>\n",
       "    .dataframe tbody tr th:only-of-type {\n",
       "        vertical-align: middle;\n",
       "    }\n",
       "\n",
       "    .dataframe tbody tr th {\n",
       "        vertical-align: top;\n",
       "    }\n",
       "\n",
       "    .dataframe thead th {\n",
       "        text-align: right;\n",
       "    }\n",
       "</style>\n",
       "<table border=\"1\" class=\"dataframe\">\n",
       "  <thead>\n",
       "    <tr style=\"text-align: right;\">\n",
       "      <th></th>\n",
       "      <th>handle</th>\n",
       "      <th>seq</th>\n",
       "      <th>aa</th>\n",
       "      <th>odd_length</th>\n",
       "      <th>premature_stop</th>\n",
       "    </tr>\n",
       "  </thead>\n",
       "  <tbody>\n",
       "    <tr>\n",
       "      <th>43</th>\n",
       "      <td>44-PUT_AA_TRASP-R.14848-</td>\n",
       "      <td>CCCGTTGCATTCTTCATAATCCTTGTTCTATAGGTCCCATTATTAT...</td>\n",
       "      <td>PVAFFIILVL*VPLLFCTLLFLIFVLYLCFVAILEKEMKNI*TILV...</td>\n",
       "      <td>True</td>\n",
       "      <td>True</td>\n",
       "    </tr>\n",
       "    <tr>\n",
       "      <th>44</th>\n",
       "      <td>45-PUT_IRON_TRASP-R.14849-</td>\n",
       "      <td>TTCAACGACTGAGAAGTCAGCTTACTATTGAAAAGGCAGTGAATTT...</td>\n",
       "      <td>FND*EVSLLLKRQ*IWWLHGSLLDYVIMRKHDVFLQVHRCDNDSQH...</td>\n",
       "      <td>True</td>\n",
       "      <td>True</td>\n",
       "    </tr>\n",
       "    <tr>\n",
       "      <th>45</th>\n",
       "      <td>46-PUT_LAC_TRASP-R.14850-</td>\n",
       "      <td>GAAGTAAGGTGCGCACACTGAAGCTGTTCCCTATCGCTTATCAACC...</td>\n",
       "      <td>EVRCAH*SCSLSLINHWQVIQPSTVICTLHIKR*GNMIVACIIMLS...</td>\n",
       "      <td>True</td>\n",
       "      <td>True</td>\n",
       "    </tr>\n",
       "    <tr>\n",
       "      <th>49</th>\n",
       "      <td>50-BIO6-R.8578-</td>\n",
       "      <td>GCTGCTTCCAGCACCTTCACTGGTATTGTCGTTCAATCCGAAGGTA...</td>\n",
       "      <td>AASSTFTGIVVQSEGMAAGLRTNALSTLAGIFILAFF*NECVTVLS...</td>\n",
       "      <td>False</td>\n",
       "      <td>True</td>\n",
       "    </tr>\n",
       "    <tr>\n",
       "      <th>1715</th>\n",
       "      <td>1768-YAL001C</td>\n",
       "      <td>ATGGTACTGACGATTTATCCTGACGAACTCGTACAAATAGTGTCTG...</td>\n",
       "      <td>MVLTIYPDELVQIVSDKIASNKGSMFMSHSPFRLRLGDKRTIL*KI...</td>\n",
       "      <td>False</td>\n",
       "      <td>True</td>\n",
       "    </tr>\n",
       "    <tr>\n",
       "      <th>...</th>\n",
       "      <td>...</td>\n",
       "      <td>...</td>\n",
       "      <td>...</td>\n",
       "      <td>...</td>\n",
       "      <td>...</td>\n",
       "    </tr>\n",
       "    <tr>\n",
       "      <th>7791</th>\n",
       "      <td>7844-YMRCTy1-4_NumOfGenes_31_NumOfGenes_68</td>\n",
       "      <td>TGTTGGAATAAAAATCCACTATCGTCTATCAACTAATAGTTATATT...</td>\n",
       "      <td>CWNKNPLSSIN**LYYQYIIIYGVKMMT*VMRSCHRC*RKLKRKD*...</td>\n",
       "      <td>True</td>\n",
       "      <td>True</td>\n",
       "    </tr>\n",
       "    <tr>\n",
       "      <th>7792</th>\n",
       "      <td>7845-YDRWTy2-3_NumOfGenes_13_NumOfGenes_28</td>\n",
       "      <td>TGTTGGAATAAAAATCAACTATCATCTACTAACTAGTATTTACGTT...</td>\n",
       "      <td>CWNKNQLSSTN*YLRY*YIIIYGVRR*RK**EIVI*ISGS*NARID...</td>\n",
       "      <td>False</td>\n",
       "      <td>True</td>\n",
       "    </tr>\n",
       "    <tr>\n",
       "      <th>7793</th>\n",
       "      <td>7846-YGRWTy3-1_NumOfGenes_6</td>\n",
       "      <td>TGTTGTATCTCAAAATGAGATATGTCAGTATGACAATACGTCACCC...</td>\n",
       "      <td>CCISK*DMSV*QYVTLNVHKTHMKQPYNKTNNMRQNPTFPS*TTQS...</td>\n",
       "      <td>True</td>\n",
       "      <td>True</td>\n",
       "    </tr>\n",
       "    <tr>\n",
       "      <th>7794</th>\n",
       "      <td>7847-YHLWTy4-1_NumOfGenes_3_NumOfGenes_6</td>\n",
       "      <td>TGTTGGAACGAGAGTAATTGATAGTGACATGAGTTGCTATGGTAAC...</td>\n",
       "      <td>CWNESN***HELLW*QSNAYIVY*CTTRIRLSVIAPIAEGMLNEKL...</td>\n",
       "      <td>True</td>\n",
       "      <td>True</td>\n",
       "    </tr>\n",
       "    <tr>\n",
       "      <th>7795</th>\n",
       "      <td>7848-YCLWTy5-1_NumOfGenes_4</td>\n",
       "      <td>TGTTGAATGTGGTAACCCAATAGCATGATATGAGTAATGCTTTAGT...</td>\n",
       "      <td>C*MW*PNSMI*VML*YCFRVVSVMF*TRRTYSSKPLIR*YLRNYSF...</td>\n",
       "      <td>False</td>\n",
       "      <td>True</td>\n",
       "    </tr>\n",
       "  </tbody>\n",
       "</table>\n",
       "<p>287 rows × 5 columns</p>\n",
       "</div>"
      ],
      "text/plain": [
       "                                          handle  \\\n",
       "43                      44-PUT_AA_TRASP-R.14848-   \n",
       "44                    45-PUT_IRON_TRASP-R.14849-   \n",
       "45                     46-PUT_LAC_TRASP-R.14850-   \n",
       "49                               50-BIO6-R.8578-   \n",
       "1715                                1768-YAL001C   \n",
       "...                                          ...   \n",
       "7791  7844-YMRCTy1-4_NumOfGenes_31_NumOfGenes_68   \n",
       "7792  7845-YDRWTy2-3_NumOfGenes_13_NumOfGenes_28   \n",
       "7793                 7846-YGRWTy3-1_NumOfGenes_6   \n",
       "7794    7847-YHLWTy4-1_NumOfGenes_3_NumOfGenes_6   \n",
       "7795                 7848-YCLWTy5-1_NumOfGenes_4   \n",
       "\n",
       "                                                    seq  \\\n",
       "43    CCCGTTGCATTCTTCATAATCCTTGTTCTATAGGTCCCATTATTAT...   \n",
       "44    TTCAACGACTGAGAAGTCAGCTTACTATTGAAAAGGCAGTGAATTT...   \n",
       "45    GAAGTAAGGTGCGCACACTGAAGCTGTTCCCTATCGCTTATCAACC...   \n",
       "49    GCTGCTTCCAGCACCTTCACTGGTATTGTCGTTCAATCCGAAGGTA...   \n",
       "1715  ATGGTACTGACGATTTATCCTGACGAACTCGTACAAATAGTGTCTG...   \n",
       "...                                                 ...   \n",
       "7791  TGTTGGAATAAAAATCCACTATCGTCTATCAACTAATAGTTATATT...   \n",
       "7792  TGTTGGAATAAAAATCAACTATCATCTACTAACTAGTATTTACGTT...   \n",
       "7793  TGTTGTATCTCAAAATGAGATATGTCAGTATGACAATACGTCACCC...   \n",
       "7794  TGTTGGAACGAGAGTAATTGATAGTGACATGAGTTGCTATGGTAAC...   \n",
       "7795  TGTTGAATGTGGTAACCCAATAGCATGATATGAGTAATGCTTTAGT...   \n",
       "\n",
       "                                                     aa  odd_length  \\\n",
       "43    PVAFFIILVL*VPLLFCTLLFLIFVLYLCFVAILEKEMKNI*TILV...        True   \n",
       "44    FND*EVSLLLKRQ*IWWLHGSLLDYVIMRKHDVFLQVHRCDNDSQH...        True   \n",
       "45    EVRCAH*SCSLSLINHWQVIQPSTVICTLHIKR*GNMIVACIIMLS...        True   \n",
       "49    AASSTFTGIVVQSEGMAAGLRTNALSTLAGIFILAFF*NECVTVLS...       False   \n",
       "1715  MVLTIYPDELVQIVSDKIASNKGSMFMSHSPFRLRLGDKRTIL*KI...       False   \n",
       "...                                                 ...         ...   \n",
       "7791  CWNKNPLSSIN**LYYQYIIIYGVKMMT*VMRSCHRC*RKLKRKD*...        True   \n",
       "7792  CWNKNQLSSTN*YLRY*YIIIYGVRR*RK**EIVI*ISGS*NARID...       False   \n",
       "7793  CCISK*DMSV*QYVTLNVHKTHMKQPYNKTNNMRQNPTFPS*TTQS...        True   \n",
       "7794  CWNESN***HELLW*QSNAYIVY*CTTRIRLSVIAPIAEGMLNEKL...        True   \n",
       "7795  C*MW*PNSMI*VML*YCFRVVSVMF*TRRTYSSKPLIR*YLRNYSF...       False   \n",
       "\n",
       "      premature_stop  \n",
       "43              True  \n",
       "44              True  \n",
       "45              True  \n",
       "49              True  \n",
       "1715            True  \n",
       "...              ...  \n",
       "7791            True  \n",
       "7792            True  \n",
       "7793            True  \n",
       "7794            True  \n",
       "7795            True  \n",
       "\n",
       "[287 rows x 5 columns]"
      ]
     },
     "execution_count": 9,
     "metadata": {},
     "output_type": "execute_result"
    }
   ],
   "source": [
    "df.query('premature_stop')"
   ]
  },
  {
   "cell_type": "code",
   "execution_count": 10,
   "id": "d5c1f34d-cbd6-45ba-b3b7-42b96dcc4922",
   "metadata": {},
   "outputs": [
    {
     "data": {
      "text/plain": [
       "(287, 5)"
      ]
     },
     "execution_count": 10,
     "metadata": {},
     "output_type": "execute_result"
    }
   ],
   "source": [
    "df.query('premature_stop or odd_length').shape"
   ]
  },
  {
   "cell_type": "code",
   "execution_count": 11,
   "id": "b870353b-d537-457c-b2aa-a4135a577769",
   "metadata": {},
   "outputs": [],
   "source": [
    "df.query('premature_stop or odd_length').to_csv('pangenome_potential-introns.csv', index=False)"
   ]
  },
  {
   "cell_type": "code",
   "execution_count": 12,
   "id": "da9f1f68-1a66-4bd6-b4e9-f4e2b9907d14",
   "metadata": {},
   "outputs": [
    {
     "data": {
      "text/plain": [
       "180"
      ]
     },
     "execution_count": 12,
     "metadata": {},
     "output_type": "execute_result"
    }
   ],
   "source": [
    "df.query('odd_length')['odd_length'].sum()"
   ]
  },
  {
   "cell_type": "code",
   "execution_count": 13,
   "id": "f338f9f6-8de3-4bc9-ae03-97c5c0aa8f7c",
   "metadata": {},
   "outputs": [
    {
     "data": {
      "text/plain": [
       "180"
      ]
     },
     "execution_count": 13,
     "metadata": {},
     "output_type": "execute_result"
    }
   ],
   "source": [
    "df.query('odd_length')['premature_stop'].sum()"
   ]
  },
  {
   "cell_type": "code",
   "execution_count": 14,
   "id": "d19103e4-7f64-4810-9e45-cd341243c22a",
   "metadata": {},
   "outputs": [
    {
     "data": {
      "text/plain": [
       "1274"
      ]
     },
     "execution_count": 14,
     "metadata": {},
     "output_type": "execute_result"
    }
   ],
   "source": [
    "7727 - 6453"
   ]
  },
  {
   "cell_type": "code",
   "execution_count": 16,
   "id": "dedb13d6-0204-423d-b3ea-a3a8ead43db6",
   "metadata": {},
   "outputs": [],
   "source": [
    "#df.query('odd_length')['category'].value_counts()"
   ]
  },
  {
   "cell_type": "code",
   "execution_count": 19,
   "id": "f32d76d0-87be-45c8-b59a-55777f5fab10",
   "metadata": {},
   "outputs": [
    {
     "data": {
      "text/plain": [
       "(0, 5)"
      ]
     },
     "execution_count": 19,
     "metadata": {},
     "output_type": "execute_result"
    }
   ],
   "source": [
    "# no odd lengths without premature stops\n",
    "df.query('odd_length').query('~premature_stop').shape"
   ]
  },
  {
   "cell_type": "code",
   "execution_count": null,
   "id": "61388345-fe75-428c-b787-ec2252c4ac9c",
   "metadata": {},
   "outputs": [],
   "source": []
  },
  {
   "cell_type": "code",
   "execution_count": null,
   "id": "2eb435bc-23d8-4b6f-935e-5943e5e77e4a",
   "metadata": {},
   "outputs": [],
   "source": [
    "#df.query('odd_length').query('~premature_stop')['category'].value_counts()"
   ]
  },
  {
   "cell_type": "code",
   "execution_count": 20,
   "id": "b726846e-9a6d-4cad-975a-028877e4e5c2",
   "metadata": {},
   "outputs": [
    {
     "data": {
      "text/plain": [
       "(7796, 5)"
      ]
     },
     "execution_count": 20,
     "metadata": {},
     "output_type": "execute_result"
    }
   ],
   "source": [
    "df.shape"
   ]
  },
  {
   "cell_type": "code",
   "execution_count": 21,
   "id": "6b11a67b-fcd9-47ac-b3d3-2e8583f74eb2",
   "metadata": {},
   "outputs": [
    {
     "data": {
      "text/plain": [
       "(287, 5)"
      ]
     },
     "execution_count": 21,
     "metadata": {},
     "output_type": "execute_result"
    }
   ],
   "source": [
    "df.query('premature_stop').shape"
   ]
  },
  {
   "cell_type": "code",
   "execution_count": 24,
   "id": "11c7fc4e-e0d1-453a-8e05-34869d616bc1",
   "metadata": {},
   "outputs": [
    {
     "data": {
      "text/plain": [
       "0.023088763468445357"
      ]
     },
     "execution_count": 24,
     "metadata": {},
     "output_type": "execute_result"
    }
   ],
   "source": [
    "# 2% of pangenome has odd length ORF\n",
    "df.query('odd_length').shape[0] / df.shape[0]"
   ]
  },
  {
   "cell_type": "code",
   "execution_count": 25,
   "id": "4ed60b67-c3e9-49b2-b169-33570f61c12a",
   "metadata": {},
   "outputs": [
    {
     "data": {
      "text/plain": [
       "0.03681375064135454"
      ]
     },
     "execution_count": 25,
     "metadata": {},
     "output_type": "execute_result"
    }
   ],
   "source": [
    "# 4% of pangenome has ORF with premature stop\n",
    "df.query('premature_stop').shape[0] / df.shape[0]"
   ]
  },
  {
   "cell_type": "code",
   "execution_count": 26,
   "id": "d6e7a706-9e0c-4615-8f03-aa65330110f5",
   "metadata": {},
   "outputs": [
    {
     "data": {
      "text/plain": [
       "0.03681375064135454"
      ]
     },
     "execution_count": 26,
     "metadata": {},
     "output_type": "execute_result"
    }
   ],
   "source": [
    "# 4% of pangenome ORFs are odd (vs 10% of the 16genomes)\n",
    "df.query('odd_length or premature_stop').shape[0] / df.shape[0]"
   ]
  },
  {
   "cell_type": "code",
   "execution_count": null,
   "id": "4a08f80d-3528-415f-86d2-de7cbf082a8d",
   "metadata": {},
   "outputs": [],
   "source": [
    "#df.query('premature_stop')['category'].value_counts().plot.bar(title='Premature stops (n=9504/108350)')"
   ]
  },
  {
   "cell_type": "code",
   "execution_count": null,
   "id": "1148cad6-af8c-4dc7-9ccb-15c4259683ce",
   "metadata": {},
   "outputs": [],
   "source": [
    "df.shape"
   ]
  },
  {
   "cell_type": "code",
   "execution_count": null,
   "id": "556a0ceb-11c1-41b4-902d-a53a08340f3e",
   "metadata": {},
   "outputs": [],
   "source": [
    "df.query('premature_stop').shape"
   ]
  },
  {
   "cell_type": "code",
   "execution_count": null,
   "id": "79abd910-031e-4d85-b53e-2d64b873533e",
   "metadata": {},
   "outputs": [],
   "source": [
    "data = df.query('premature_stop').groupby('strain', as_index=False)['category'].value_counts()\n",
    "g = sns.barplot(x='category',y='count',hue='strain',data=data)\n",
    "plt.legend(bbox_to_anchor=(1.02, 1), loc='upper left', borderaxespad=0)\n",
    "g.set_xticklabels(g.get_xticklabels(),rotation=30)\n",
    "g.set_ylim(0,460)\n",
    "g.set_title('Premature Stop Codon (n=9604/108350)')"
   ]
  },
  {
   "cell_type": "code",
   "execution_count": null,
   "id": "c4b94c12-7880-4653-a38d-599a3ac06cea",
   "metadata": {},
   "outputs": [],
   "source": [
    "df.query('odd_length').shape"
   ]
  },
  {
   "cell_type": "code",
   "execution_count": null,
   "id": "e0865336-998d-4d04-aa76-fa9da857b445",
   "metadata": {},
   "outputs": [],
   "source": [
    "data = df.query('odd_length').groupby('strain', as_index=False)['category'].value_counts()\n",
    "g = sns.barplot(x='category',y='count',hue='strain',data=data)\n",
    "plt.legend(bbox_to_anchor=(1.02, 1), loc='upper left', borderaxespad=0)\n",
    "g.set_xticklabels(g.get_xticklabels(),rotation=30)\n",
    "g.set_title('Length NOT divisible by 3 (n=7727/108350)')\n",
    "g.set_ylim(0,460)"
   ]
  },
  {
   "cell_type": "code",
   "execution_count": null,
   "id": "d672e0c9-94dc-4cbb-baaa-16cfc2d9dcad",
   "metadata": {},
   "outputs": [],
   "source": [
    "df.query('odd_length and premature_stop').shape"
   ]
  },
  {
   "cell_type": "code",
   "execution_count": null,
   "id": "e72f2cad-005b-4d5a-ac8c-96263961eed6",
   "metadata": {},
   "outputs": [],
   "source": [
    "data = df.query('odd_length and premature_stop').groupby('strain', as_index=False)['category'].value_counts()\n",
    "g = sns.barplot(x='category',y='count',hue='strain',data=data)\n",
    "plt.legend(bbox_to_anchor=(1.02, 1), loc='upper left', borderaxespad=0)\n",
    "g.set_xticklabels(g.get_xticklabels(),rotation=30)\n",
    "g.set_title('Premature stop and length NOT divisible by 3 (n=6453/108350)')\n",
    "g.set_ylim(0,460)"
   ]
  },
  {
   "cell_type": "code",
   "execution_count": null,
   "id": "70a77d3b-8ea9-46b0-831b-52b966b6ebb4",
   "metadata": {},
   "outputs": [],
   "source": [
    "fig, axes = plt.subplots(1, 3, figsize=(15, 5), sharey=True)\n",
    "\n",
    "data = df.query('premature_stop').groupby('strain', as_index=False)['category'].value_counts()\n",
    "g = sns.barplot(ax=axes[0],x='category',y='count',hue='strain',data=data)\n",
    "plt.legend(bbox_to_anchor=(1.02, 1), loc='upper left', borderaxespad=0)\n",
    "g.set_xticklabels(g.get_xticklabels(),rotation=30)\n",
    "g.set_ylim(0,460)\n",
    "g.legend_.remove()\n",
    "g.set_title('Premature Stop Codon (n=9604/108350)')\n",
    "\n",
    "data = df.query('odd_length').groupby('strain', as_index=False)['category'].value_counts()\n",
    "g = sns.barplot(ax=axes[1], x='category',y='count',hue='strain',data=data)\n",
    "plt.legend(bbox_to_anchor=(1.02, 1), loc='upper left', borderaxespad=0)\n",
    "g.set_xticklabels(g.get_xticklabels(),rotation=30)\n",
    "g.set_title('Length NOT divisible by 3 (n=7727/108350)')\n",
    "g.set_ylim(0,460)\n",
    "g.legend_.remove()\n",
    "\n",
    "data = df.query('odd_length and premature_stop').groupby('strain', as_index=False)['category'].value_counts()\n",
    "g = sns.barplot(ax=axes[2], x='category',y='count',hue='strain',data=data)\n",
    "plt.legend(bbox_to_anchor=(1.02, 1), loc='upper left', borderaxespad=0)\n",
    "g.set_xticklabels(g.get_xticklabels(),rotation=30)\n",
    "g.set_title('Premature stop AND odd length (n=6453/108350)')\n",
    "g.set_ylim(0,460)"
   ]
  },
  {
   "cell_type": "code",
   "execution_count": null,
   "id": "98adb6ea-ac20-4ba1-b39d-7a4c7cac0aa0",
   "metadata": {},
   "outputs": [],
   "source": [
    "df.query('odd_length and premature_stop')['premature_stop'].sum()"
   ]
  },
  {
   "cell_type": "code",
   "execution_count": null,
   "id": "5bc18435-c6c7-4b9f-a2a1-38eb1374eef9",
   "metadata": {},
   "outputs": [],
   "source": []
  }
 ],
 "metadata": {
  "kernelspec": {
   "display_name": "Python 3 (ipykernel)",
   "language": "python",
   "name": "python3"
  },
  "language_info": {
   "codemirror_mode": {
    "name": "ipython",
    "version": 3
   },
   "file_extension": ".py",
   "mimetype": "text/x-python",
   "name": "python",
   "nbconvert_exporter": "python",
   "pygments_lexer": "ipython3",
   "version": "3.9.6"
  }
 },
 "nbformat": 4,
 "nbformat_minor": 5
}
