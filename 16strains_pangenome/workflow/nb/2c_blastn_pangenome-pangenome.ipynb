{
 "cells": [
  {
   "cell_type": "code",
   "execution_count": 1,
   "id": "289ceb92-01aa-433c-ba3c-8a71cc55b73d",
   "metadata": {},
   "outputs": [],
   "source": [
    "# check pangenome blastn to pangenome\n",
    "# looking for threshold of betweeen first and second best hits"
   ]
  },
  {
   "cell_type": "code",
   "execution_count": 35,
   "id": "6fc983cd-2674-40cb-a9c6-cf95d906f364",
   "metadata": {},
   "outputs": [],
   "source": [
    "import pandas as pd\n",
    "import os\n",
    "import re\n",
    "from Bio.Seq import Seq\n",
    "from Bio import SeqIO\n",
    "import seaborn as sns\n",
    "import matplotlib.pyplot as plt "
   ]
  },
  {
   "cell_type": "code",
   "execution_count": 20,
   "id": "00bb736b-8e8b-406b-8c45-8244e7427106",
   "metadata": {},
   "outputs": [],
   "source": [
    "filename = \"../data/blastn/pangenome_allORFs-pangenome.tsv\"\n",
    "blastn_cols = ['query','target','percent_id','alignment_length','mismatch','gapopen','qstart','qend','tstart','tend','evalue','bitscore']\n",
    "\n",
    "df = pd.read_csv(filename, names=blastn_cols, sep=\"\\t\")"
   ]
  },
  {
   "cell_type": "code",
   "execution_count": 21,
   "id": "08fc7303-5640-41b1-bcf4-aade87c163ac",
   "metadata": {},
   "outputs": [],
   "source": [
    "# map length of target (ref) sequences\n",
    "input_file = '../data/1011_pangenome/allORFs_pangenome.fasta'\n",
    "handle = []\n",
    "seq = []\n",
    "\n",
    "for record in SeqIO.parse(input_file, \"fasta\"):\n",
    "    handle.append(record.id)\n",
    "    seq.append(str(record.seq))\n",
    "    \n",
    "ref_df = pd.DataFrame({'ref_id':handle,'ref_seq':seq})\n",
    "\n",
    "ref_df['ref_len'] = ref_df.ref_seq.str.len()\n",
    "\n",
    "ref_map = dict(zip(ref_df.ref_id, ref_df.ref_len))\n",
    "\n",
    "df['tseq_len'] = df.target.map(ref_map)\n",
    "\n",
    "# percent id whole\n",
    "df['percent_id_whole'] = (((df.alignment_length) / df.tseq_len) * df.percent_id/100)"
   ]
  },
  {
   "cell_type": "code",
   "execution_count": 23,
   "id": "30806589-f872-4ea4-9d95-7c9fab246a07",
   "metadata": {},
   "outputs": [],
   "source": [
    "# get queries with multiple hits\n",
    "vc = df[\"query\"].value_counts()\n",
    "multi_hits = vc[vc > 1].index.tolist()\n",
    "\n",
    "df = df.query('query.isin(@multi_hits)')"
   ]
  },
  {
   "cell_type": "code",
   "execution_count": 27,
   "id": "0ef90b93-f31f-4ade-93fa-51772c8288c6",
   "metadata": {},
   "outputs": [
    {
     "data": {
      "text/html": [
       "<div>\n",
       "<style scoped>\n",
       "    .dataframe tbody tr th:only-of-type {\n",
       "        vertical-align: middle;\n",
       "    }\n",
       "\n",
       "    .dataframe tbody tr th {\n",
       "        vertical-align: top;\n",
       "    }\n",
       "\n",
       "    .dataframe thead th {\n",
       "        text-align: right;\n",
       "    }\n",
       "</style>\n",
       "<table border=\"1\" class=\"dataframe\">\n",
       "  <thead>\n",
       "    <tr style=\"text-align: right;\">\n",
       "      <th></th>\n",
       "      <th>query</th>\n",
       "      <th>target</th>\n",
       "      <th>percent_id</th>\n",
       "      <th>alignment_length</th>\n",
       "      <th>mismatch</th>\n",
       "      <th>gapopen</th>\n",
       "      <th>qstart</th>\n",
       "      <th>qend</th>\n",
       "      <th>tstart</th>\n",
       "      <th>tend</th>\n",
       "      <th>evalue</th>\n",
       "      <th>bitscore</th>\n",
       "      <th>tseq_len</th>\n",
       "      <th>percent_id_whole</th>\n",
       "    </tr>\n",
       "  </thead>\n",
       "  <tbody>\n",
       "    <tr>\n",
       "      <th>10</th>\n",
       "      <td>11-EC1118_1F14_0144g</td>\n",
       "      <td>11-EC1118_1F14_0144g</td>\n",
       "      <td>100.000</td>\n",
       "      <td>1488</td>\n",
       "      <td>0</td>\n",
       "      <td>0</td>\n",
       "      <td>1</td>\n",
       "      <td>1488</td>\n",
       "      <td>1</td>\n",
       "      <td>1488</td>\n",
       "      <td>0.000000e+00</td>\n",
       "      <td>2748.0</td>\n",
       "      <td>1488</td>\n",
       "      <td>1.000000</td>\n",
       "    </tr>\n",
       "    <tr>\n",
       "      <th>11</th>\n",
       "      <td>11-EC1118_1F14_0144g</td>\n",
       "      <td>116-augustus_masked-1659-AIE_1</td>\n",
       "      <td>78.571</td>\n",
       "      <td>1498</td>\n",
       "      <td>304</td>\n",
       "      <td>15</td>\n",
       "      <td>1</td>\n",
       "      <td>1488</td>\n",
       "      <td>1</td>\n",
       "      <td>1491</td>\n",
       "      <td>0.000000e+00</td>\n",
       "      <td>972.0</td>\n",
       "      <td>1491</td>\n",
       "      <td>0.789399</td>\n",
       "    </tr>\n",
       "    <tr>\n",
       "      <th>24</th>\n",
       "      <td>24-EC1118_1O4_6557g</td>\n",
       "      <td>24-EC1118_1O4_6557g</td>\n",
       "      <td>100.000</td>\n",
       "      <td>1563</td>\n",
       "      <td>0</td>\n",
       "      <td>0</td>\n",
       "      <td>1</td>\n",
       "      <td>1563</td>\n",
       "      <td>1</td>\n",
       "      <td>1563</td>\n",
       "      <td>0.000000e+00</td>\n",
       "      <td>2887.0</td>\n",
       "      <td>1563</td>\n",
       "      <td>1.000000</td>\n",
       "    </tr>\n",
       "    <tr>\n",
       "      <th>25</th>\n",
       "      <td>24-EC1118_1O4_6557g</td>\n",
       "      <td>734-augustus_masked-AIE_1-5050</td>\n",
       "      <td>73.443</td>\n",
       "      <td>305</td>\n",
       "      <td>65</td>\n",
       "      <td>16</td>\n",
       "      <td>1216</td>\n",
       "      <td>1513</td>\n",
       "      <td>490</td>\n",
       "      <td>785</td>\n",
       "      <td>6.890000e-21</td>\n",
       "      <td>100.0</td>\n",
       "      <td>1005</td>\n",
       "      <td>0.222887</td>\n",
       "    </tr>\n",
       "    <tr>\n",
       "      <th>26</th>\n",
       "      <td>24-EC1118_1O4_6557g</td>\n",
       "      <td>359-augustus_masked-8489-AQD_4</td>\n",
       "      <td>69.983</td>\n",
       "      <td>603</td>\n",
       "      <td>168</td>\n",
       "      <td>13</td>\n",
       "      <td>959</td>\n",
       "      <td>1555</td>\n",
       "      <td>959</td>\n",
       "      <td>1554</td>\n",
       "      <td>2.480000e-20</td>\n",
       "      <td>99.0</td>\n",
       "      <td>1725</td>\n",
       "      <td>0.244636</td>\n",
       "    </tr>\n",
       "  </tbody>\n",
       "</table>\n",
       "</div>"
      ],
      "text/plain": [
       "                   query                          target  percent_id  \\\n",
       "10  11-EC1118_1F14_0144g            11-EC1118_1F14_0144g     100.000   \n",
       "11  11-EC1118_1F14_0144g  116-augustus_masked-1659-AIE_1      78.571   \n",
       "24   24-EC1118_1O4_6557g             24-EC1118_1O4_6557g     100.000   \n",
       "25   24-EC1118_1O4_6557g  734-augustus_masked-AIE_1-5050      73.443   \n",
       "26   24-EC1118_1O4_6557g  359-augustus_masked-8489-AQD_4      69.983   \n",
       "\n",
       "    alignment_length  mismatch  gapopen  qstart  qend  tstart  tend  \\\n",
       "10              1488         0        0       1  1488       1  1488   \n",
       "11              1498       304       15       1  1488       1  1491   \n",
       "24              1563         0        0       1  1563       1  1563   \n",
       "25               305        65       16    1216  1513     490   785   \n",
       "26               603       168       13     959  1555     959  1554   \n",
       "\n",
       "          evalue  bitscore  tseq_len  percent_id_whole  \n",
       "10  0.000000e+00    2748.0      1488          1.000000  \n",
       "11  0.000000e+00     972.0      1491          0.789399  \n",
       "24  0.000000e+00    2887.0      1563          1.000000  \n",
       "25  6.890000e-21     100.0      1005          0.222887  \n",
       "26  2.480000e-20      99.0      1725          0.244636  "
      ]
     },
     "execution_count": 27,
     "metadata": {},
     "output_type": "execute_result"
    }
   ],
   "source": [
    "df.head()"
   ]
  },
  {
   "cell_type": "code",
   "execution_count": 38,
   "id": "c1bd9acb-a948-401c-892e-436e5e2f224c",
   "metadata": {},
   "outputs": [
    {
     "data": {
      "image/png": "[encoded data removed]",
      "text/plain": [
       "<Figure size 720x360 with 1 Axes>"
      ]
     },
     "metadata": {
      "needs_background": "light"
     },
     "output_type": "display_data"
    }
   ],
   "source": [
    "ax = df.melt('query','percent_id_whole').plot.scatter(x='query', y='value', figsize=(10, 5), alpha=.5)\n",
    "ax.set_ylim(.9,1)\n",
    "plt.tick_params(\n",
    "    axis='x',          # changes apply to the x-axis\n",
    "    which='both',      # both major and minor ticks are affected\n",
    "    bottom=False,      # ticks along the bottom edge are off\n",
    "    top=False,         # ticks along the top edge are off\n",
    "    labelbottom=False) # labels along the bottom edge are off"
   ]
  },
  {
   "cell_type": "code",
   "execution_count": 39,
   "id": "25b51bbb-6a39-4c76-b4f3-f7e25d6f8996",
   "metadata": {},
   "outputs": [
    {
     "data": {
      "text/plain": [
       "(14788, 14)"
      ]
     },
     "execution_count": 39,
     "metadata": {},
     "output_type": "execute_result"
    }
   ],
   "source": [
    "df.shape"
   ]
  },
  {
   "cell_type": "code",
   "execution_count": 41,
   "id": "41107f74-8cb9-40b5-b045-a882313d9017",
   "metadata": {},
   "outputs": [
    {
     "data": {
      "text/plain": [
       "7796"
      ]
     },
     "execution_count": 41,
     "metadata": {},
     "output_type": "execute_result"
    }
   ],
   "source": [
    "len(ref_map)"
   ]
  },
  {
   "cell_type": "code",
   "execution_count": 42,
   "id": "22e381d8-ea1d-45c7-86a2-6da43b081a06",
   "metadata": {},
   "outputs": [
    {
     "data": {
      "text/plain": [
       "2929"
      ]
     },
     "execution_count": 42,
     "metadata": {},
     "output_type": "execute_result"
    }
   ],
   "source": [
    "df['query'].nunique()"
   ]
  },
  {
   "cell_type": "code",
   "execution_count": null,
   "id": "2fc1695b-6dae-47ea-8d34-739a2e6a5629",
   "metadata": {},
   "outputs": [],
   "source": [
    "2929/7796"
   ]
  }
 ],
 "metadata": {
  "kernelspec": {
   "display_name": "Python 3 (ipykernel)",
   "language": "python",
   "name": "python3"
  },
  "language_info": {
   "codemirror_mode": {
    "name": "ipython",
    "version": 3
   },
   "file_extension": ".py",
   "mimetype": "text/x-python",
   "name": "python",
   "nbconvert_exporter": "python",
   "pygments_lexer": "ipython3",
   "version": "3.10.9"
  }
 },
 "nbformat": 4,
 "nbformat_minor": 5
}
