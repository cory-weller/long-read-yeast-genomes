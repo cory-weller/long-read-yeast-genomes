{
 "cells": [
  {
   "cell_type": "code",
   "execution_count": 1,
   "id": "cbe1d786-47de-4507-affd-a01d6717f957",
   "metadata": {},
   "outputs": [],
   "source": [
    "import pandas as pd\n",
    "from Bio import SeqIO\n",
    "from Bio.Seq import Seq\n",
    "import os\n",
    "import re\n",
    "import seaborn as sns\n",
    "import matplotlib.pyplot as plt"
   ]
  },
  {
   "cell_type": "code",
   "execution_count": 2,
   "id": "c07217c3-33fc-4d7b-811d-f59f9bcb1f17",
   "metadata": {},
   "outputs": [],
   "source": [
    "files = [ \n",
    " 'orfs_MSY24.fasta',\n",
    " 'orfs_MSY25.fasta',\n",
    " 'orfs_MSY26.fasta',\n",
    " 'orfs_MSY27.fasta',\n",
    " 'orfs_MSY28.fasta',\n",
    " 'orfs_MSY29.fasta',\n",
    " 'orfs_MSY30.fasta',\n",
    " 'orfs_MSY31.fasta',\n",
    " 'orfs_MSY32.fasta',\n",
    " 'orfs_MSY33.fasta',\n",
    " 'orfs_MSY34.fasta',\n",
    " 'orfs_MSY35.fasta',\n",
    " 'orfs_MSY36.fasta',\n",
    " 'orfs_MSY37.fasta',\n",
    " 'orfs_MSY38.fasta',\n",
    " 'orfs_MSY39.fasta'\n",
    "]"
   ]
  },
  {
   "cell_type": "code",
   "execution_count": 3,
   "id": "dd37c5c4-f02a-4c32-9502-a564302687f8",
   "metadata": {},
   "outputs": [],
   "source": [
    "strain = []\n",
    "handle = []\n",
    "seq = []\n",
    "\n",
    "for file in files:\n",
    "    input_file = f\"../data/16_genomes/orf_fastas/{file}\"\n",
    "\n",
    "    for record in SeqIO.parse(input_file, \"fasta\"):\n",
    "        strain.append(re.split('\\.|_', file)[1])\n",
    "        handle.append(record.id)\n",
    "        seq.append(str(record.seq))\n",
    "\n",
    "df = pd.DataFrame({'strain':strain, 'handle':handle, 'seq':seq})"
   ]
  },
  {
   "cell_type": "code",
   "execution_count": 4,
   "id": "26c1d865-fc33-4a3d-830b-c4a7a585aa70",
   "metadata": {},
   "outputs": [
    {
     "name": "stderr",
     "output_type": "stream",
     "text": [
      "/data/chambersmj/conda/envs/alignparse-environment/lib/python3.9/site-packages/Bio/Seq.py:2979: BiopythonWarning: Partial codon, len(sequence) not a multiple of three. Explicitly trim the sequence or add trailing N before translation. This may become an error in future.\n",
      "  warnings.warn(\n"
     ]
    }
   ],
   "source": [
    "df['aa'] = df.seq.apply(lambda x: str(Seq(str(x)).translate()))"
   ]
  },
  {
   "cell_type": "code",
   "execution_count": 5,
   "id": "99d93f39-d88a-497b-a76b-7750b6042bc6",
   "metadata": {},
   "outputs": [],
   "source": [
    "df['category'] = df.handle.str.split(\"_\").str[-1]"
   ]
  },
  {
   "cell_type": "code",
   "execution_count": 6,
   "id": "8ebbcf68-1ee6-44f1-af85-704be7e393dc",
   "metadata": {},
   "outputs": [],
   "source": [
    "# not divisible by 3\n",
    "df['odd_length'] = (df.seq.str.len() % 3) != 0"
   ]
  },
  {
   "cell_type": "code",
   "execution_count": 7,
   "id": "2e7a1821-1851-49c4-ad6a-8ee49d97bafe",
   "metadata": {},
   "outputs": [],
   "source": [
    "# premature stop codon\n",
    "df['premature_stop'] = df['aa'].str[:-1].str.contains(\"\\*\")"
   ]
  },
  {
   "cell_type": "code",
   "execution_count": 8,
   "id": "cc9a1296-daff-44ee-b9c8-aca22bbe2335",
   "metadata": {},
   "outputs": [
    {
     "data": {
      "text/html": [
       "<div>\n",
       "<style scoped>\n",
       "    .dataframe tbody tr th:only-of-type {\n",
       "        vertical-align: middle;\n",
       "    }\n",
       "\n",
       "    .dataframe tbody tr th {\n",
       "        vertical-align: top;\n",
       "    }\n",
       "\n",
       "    .dataframe thead th {\n",
       "        text-align: right;\n",
       "    }\n",
       "</style>\n",
       "<table border=\"1\" class=\"dataframe\">\n",
       "  <thead>\n",
       "    <tr style=\"text-align: right;\">\n",
       "      <th></th>\n",
       "      <th>strain</th>\n",
       "      <th>handle</th>\n",
       "      <th>seq</th>\n",
       "      <th>aa</th>\n",
       "      <th>category</th>\n",
       "      <th>odd_length</th>\n",
       "      <th>premature_stop</th>\n",
       "    </tr>\n",
       "  </thead>\n",
       "  <tbody>\n",
       "    <tr>\n",
       "      <th>0</th>\n",
       "      <td>MSY24</td>\n",
       "      <td>MSY24_gene1_additional.copy</td>\n",
       "      <td>ATGGACTTGAATCAAAGAAAGGAAAAAAGGGCCAGCATGTTGGATG...</td>\n",
       "      <td>MDLNQRKEKRASMLDAVAPGQTCLLTQWN**KEWTDWLKNRRQLPC...</td>\n",
       "      <td>additional.copy</td>\n",
       "      <td>True</td>\n",
       "      <td>True</td>\n",
       "    </tr>\n",
       "    <tr>\n",
       "      <th>3</th>\n",
       "      <td>MSY24</td>\n",
       "      <td>MSY24_gene4_retained</td>\n",
       "      <td>ATGCGAGTTCTCATCGGAACGAAATTAGTGACTGAAGGAATTGACA...</td>\n",
       "      <td>MRVLIGTKLVTEGIDIKQLMMVIMLDNRLNIIELIQGVGRLRDGGL...</td>\n",
       "      <td>retained</td>\n",
       "      <td>True</td>\n",
       "      <td>False</td>\n",
       "    </tr>\n",
       "    <tr>\n",
       "      <th>5</th>\n",
       "      <td>MSY24</td>\n",
       "      <td>MSY24_gene6_additional.copy</td>\n",
       "      <td>ATGAAAGTTTCCGATAGGCGTAAGTTTGAAAAAGCAAACTTTGACG...</td>\n",
       "      <td>MKVSDRRKFEKANFDEFESALNNKNDLVHCPSITLFESIPTEVRSF...</td>\n",
       "      <td>additional.copy</td>\n",
       "      <td>True</td>\n",
       "      <td>True</td>\n",
       "    </tr>\n",
       "    <tr>\n",
       "      <th>6</th>\n",
       "      <td>MSY24</td>\n",
       "      <td>MSY24_gene7_dubious</td>\n",
       "      <td>ATGTCCCTACGGCCTTGTCTAACACCATCCAGCATGCAATAAGGTG...</td>\n",
       "      <td>MSLRPCLTPSSMQ*GDIYIPTPTHITTLTLPYHYPILTLILPVSQL...</td>\n",
       "      <td>dubious</td>\n",
       "      <td>True</td>\n",
       "      <td>True</td>\n",
       "    </tr>\n",
       "    <tr>\n",
       "      <th>8</th>\n",
       "      <td>MSY24</td>\n",
       "      <td>MSY24_gene9_additional.homolog</td>\n",
       "      <td>ATGCATGACCTCTGGGTAATTAGCACTTCTCCCGCTTGTTTTGAGA...</td>\n",
       "      <td>MHDLWVISTSPACFEILYINIANKRIERGWQPLQ*KLFVLIMRQC</td>\n",
       "      <td>additional.homolog</td>\n",
       "      <td>True</td>\n",
       "      <td>True</td>\n",
       "    </tr>\n",
       "    <tr>\n",
       "      <th>...</th>\n",
       "      <td>...</td>\n",
       "      <td>...</td>\n",
       "      <td>...</td>\n",
       "      <td>...</td>\n",
       "      <td>...</td>\n",
       "      <td>...</td>\n",
       "      <td>...</td>\n",
       "    </tr>\n",
       "    <tr>\n",
       "      <th>108224</th>\n",
       "      <td>MSY39</td>\n",
       "      <td>MSY39_gene6581_dubious</td>\n",
       "      <td>ATATTAATAATATATATATTATTTATTATAATGAAAACCTATCCTA...</td>\n",
       "      <td>ILIIYILFIIMKTYPKLSYHIISYHIILYLII*YIKYSLYMRL*LL...</td>\n",
       "      <td>dubious</td>\n",
       "      <td>True</td>\n",
       "      <td>True</td>\n",
       "    </tr>\n",
       "    <tr>\n",
       "      <th>108225</th>\n",
       "      <td>MSY39</td>\n",
       "      <td>MSY39_gene6582_diverged</td>\n",
       "      <td>ATGGTACAAAGATGATTATATTCAACAAATGCAAAAGATATTGCAG...</td>\n",
       "      <td>MVQR*LYSTNAKDIAVLYFMLAIFSGMAGTAMSLIIRLELAAPGSQ...</td>\n",
       "      <td>diverged</td>\n",
       "      <td>True</td>\n",
       "      <td>True</td>\n",
       "    </tr>\n",
       "    <tr>\n",
       "      <th>108226</th>\n",
       "      <td>MSY39</td>\n",
       "      <td>MSY39_gene6583_retained</td>\n",
       "      <td>ATGGTACAAAGATGATTATATTCAACAAATGCAAAAGATATTGCAG...</td>\n",
       "      <td>MVQR*LYSTNAKDIAVLYFMLAIFSGMAGTAMSLIIRLELAAPGSQ...</td>\n",
       "      <td>retained</td>\n",
       "      <td>True</td>\n",
       "      <td>True</td>\n",
       "    </tr>\n",
       "    <tr>\n",
       "      <th>108227</th>\n",
       "      <td>MSY39</td>\n",
       "      <td>MSY39_gene6584_diverged</td>\n",
       "      <td>ATGGTACAAAGATGATTATATTCAACAAATGCAAAAGATATTGCAG...</td>\n",
       "      <td>MVQR*LYSTNAKDIAVLYFMLAIFSGMAGTAMSLIIRLELAAPGSQ...</td>\n",
       "      <td>diverged</td>\n",
       "      <td>True</td>\n",
       "      <td>True</td>\n",
       "    </tr>\n",
       "    <tr>\n",
       "      <th>108229</th>\n",
       "      <td>MSY39</td>\n",
       "      <td>MSY39_gene6586_diverged</td>\n",
       "      <td>ATGGTACAAAGATGATTATATTCAACAAATGCAAAAGATATTGCAG...</td>\n",
       "      <td>MVQR*LYSTNAKDIAVLYFMLAIFSGMAGTAMSLIIRLELAAPGSQ...</td>\n",
       "      <td>diverged</td>\n",
       "      <td>True</td>\n",
       "      <td>True</td>\n",
       "    </tr>\n",
       "  </tbody>\n",
       "</table>\n",
       "<p>7727 rows × 7 columns</p>\n",
       "</div>"
      ],
      "text/plain": [
       "       strain                          handle  \\\n",
       "0       MSY24     MSY24_gene1_additional.copy   \n",
       "3       MSY24            MSY24_gene4_retained   \n",
       "5       MSY24     MSY24_gene6_additional.copy   \n",
       "6       MSY24             MSY24_gene7_dubious   \n",
       "8       MSY24  MSY24_gene9_additional.homolog   \n",
       "...       ...                             ...   \n",
       "108224  MSY39          MSY39_gene6581_dubious   \n",
       "108225  MSY39         MSY39_gene6582_diverged   \n",
       "108226  MSY39         MSY39_gene6583_retained   \n",
       "108227  MSY39         MSY39_gene6584_diverged   \n",
       "108229  MSY39         MSY39_gene6586_diverged   \n",
       "\n",
       "                                                      seq  \\\n",
       "0       ATGGACTTGAATCAAAGAAAGGAAAAAAGGGCCAGCATGTTGGATG...   \n",
       "3       ATGCGAGTTCTCATCGGAACGAAATTAGTGACTGAAGGAATTGACA...   \n",
       "5       ATGAAAGTTTCCGATAGGCGTAAGTTTGAAAAAGCAAACTTTGACG...   \n",
       "6       ATGTCCCTACGGCCTTGTCTAACACCATCCAGCATGCAATAAGGTG...   \n",
       "8       ATGCATGACCTCTGGGTAATTAGCACTTCTCCCGCTTGTTTTGAGA...   \n",
       "...                                                   ...   \n",
       "108224  ATATTAATAATATATATATTATTTATTATAATGAAAACCTATCCTA...   \n",
       "108225  ATGGTACAAAGATGATTATATTCAACAAATGCAAAAGATATTGCAG...   \n",
       "108226  ATGGTACAAAGATGATTATATTCAACAAATGCAAAAGATATTGCAG...   \n",
       "108227  ATGGTACAAAGATGATTATATTCAACAAATGCAAAAGATATTGCAG...   \n",
       "108229  ATGGTACAAAGATGATTATATTCAACAAATGCAAAAGATATTGCAG...   \n",
       "\n",
       "                                                       aa            category  \\\n",
       "0       MDLNQRKEKRASMLDAVAPGQTCLLTQWN**KEWTDWLKNRRQLPC...     additional.copy   \n",
       "3       MRVLIGTKLVTEGIDIKQLMMVIMLDNRLNIIELIQGVGRLRDGGL...            retained   \n",
       "5       MKVSDRRKFEKANFDEFESALNNKNDLVHCPSITLFESIPTEVRSF...     additional.copy   \n",
       "6       MSLRPCLTPSSMQ*GDIYIPTPTHITTLTLPYHYPILTLILPVSQL...             dubious   \n",
       "8           MHDLWVISTSPACFEILYINIANKRIERGWQPLQ*KLFVLIMRQC  additional.homolog   \n",
       "...                                                   ...                 ...   \n",
       "108224  ILIIYILFIIMKTYPKLSYHIISYHIILYLII*YIKYSLYMRL*LL...             dubious   \n",
       "108225  MVQR*LYSTNAKDIAVLYFMLAIFSGMAGTAMSLIIRLELAAPGSQ...            diverged   \n",
       "108226  MVQR*LYSTNAKDIAVLYFMLAIFSGMAGTAMSLIIRLELAAPGSQ...            retained   \n",
       "108227  MVQR*LYSTNAKDIAVLYFMLAIFSGMAGTAMSLIIRLELAAPGSQ...            diverged   \n",
       "108229  MVQR*LYSTNAKDIAVLYFMLAIFSGMAGTAMSLIIRLELAAPGSQ...            diverged   \n",
       "\n",
       "        odd_length  premature_stop  \n",
       "0             True            True  \n",
       "3             True           False  \n",
       "5             True            True  \n",
       "6             True            True  \n",
       "8             True            True  \n",
       "...            ...             ...  \n",
       "108224        True            True  \n",
       "108225        True            True  \n",
       "108226        True            True  \n",
       "108227        True            True  \n",
       "108229        True            True  \n",
       "\n",
       "[7727 rows x 7 columns]"
      ]
     },
     "execution_count": 8,
     "metadata": {},
     "output_type": "execute_result"
    }
   ],
   "source": [
    "df.query('odd_length')"
   ]
  },
  {
   "cell_type": "code",
   "execution_count": 9,
   "id": "b870353b-d537-457c-b2aa-a4135a577769",
   "metadata": {},
   "outputs": [
    {
     "data": {
      "text/plain": [
       "(7727, 7)"
      ]
     },
     "execution_count": 9,
     "metadata": {},
     "output_type": "execute_result"
    }
   ],
   "source": [
    "df.query('odd_length').shape"
   ]
  },
  {
   "cell_type": "code",
   "execution_count": 10,
   "id": "da9f1f68-1a66-4bd6-b4e9-f4e2b9907d14",
   "metadata": {},
   "outputs": [
    {
     "data": {
      "text/plain": [
       "7727"
      ]
     },
     "execution_count": 10,
     "metadata": {},
     "output_type": "execute_result"
    }
   ],
   "source": [
    "df.query('odd_length')['odd_length'].sum()"
   ]
  },
  {
   "cell_type": "code",
   "execution_count": 11,
   "id": "f338f9f6-8de3-4bc9-ae03-97c5c0aa8f7c",
   "metadata": {},
   "outputs": [
    {
     "data": {
      "text/plain": [
       "6453"
      ]
     },
     "execution_count": 11,
     "metadata": {},
     "output_type": "execute_result"
    }
   ],
   "source": [
    "df.query('odd_length')['premature_stop'].sum()"
   ]
  },
  {
   "cell_type": "code",
   "execution_count": 12,
   "id": "d19103e4-7f64-4810-9e45-cd341243c22a",
   "metadata": {},
   "outputs": [
    {
     "data": {
      "text/plain": [
       "1274"
      ]
     },
     "execution_count": 12,
     "metadata": {},
     "output_type": "execute_result"
    }
   ],
   "source": [
    "7727 - 6453"
   ]
  },
  {
   "cell_type": "code",
   "execution_count": 13,
   "id": "dedb13d6-0204-423d-b3ea-a3a8ead43db6",
   "metadata": {},
   "outputs": [
    {
     "data": {
      "text/plain": [
       "retained              5043\n",
       "dubious               1999\n",
       "diverged               295\n",
       "additional.copy        230\n",
       "additional.homolog     160\n",
       "Name: category, dtype: int64"
      ]
     },
     "execution_count": 13,
     "metadata": {},
     "output_type": "execute_result"
    }
   ],
   "source": [
    "df.query('odd_length')['category'].value_counts()"
   ]
  },
  {
   "cell_type": "code",
   "execution_count": 14,
   "id": "f32d76d0-87be-45c8-b59a-55777f5fab10",
   "metadata": {},
   "outputs": [
    {
     "data": {
      "text/plain": [
       "(1274, 7)"
      ]
     },
     "execution_count": 14,
     "metadata": {},
     "output_type": "execute_result"
    }
   ],
   "source": [
    "df.query('odd_length').query('~premature_stop').shape"
   ]
  },
  {
   "cell_type": "code",
   "execution_count": 15,
   "id": "2eb435bc-23d8-4b6f-935e-5943e5e77e4a",
   "metadata": {},
   "outputs": [
    {
     "data": {
      "text/plain": [
       "retained              733\n",
       "dubious               298\n",
       "diverged              121\n",
       "additional.copy        82\n",
       "additional.homolog     40\n",
       "Name: category, dtype: int64"
      ]
     },
     "execution_count": 15,
     "metadata": {},
     "output_type": "execute_result"
    }
   ],
   "source": [
    "df.query('odd_length').query('~premature_stop')['category'].value_counts()"
   ]
  },
  {
   "cell_type": "code",
   "execution_count": 16,
   "id": "b726846e-9a6d-4cad-975a-028877e4e5c2",
   "metadata": {},
   "outputs": [
    {
     "data": {
      "text/plain": [
       "(108350, 7)"
      ]
     },
     "execution_count": 16,
     "metadata": {},
     "output_type": "execute_result"
    }
   ],
   "source": [
    "df.shape"
   ]
  },
  {
   "cell_type": "code",
   "execution_count": 17,
   "id": "6b11a67b-fcd9-47ac-b3d3-2e8583f74eb2",
   "metadata": {},
   "outputs": [
    {
     "data": {
      "text/plain": [
       "(9504, 7)"
      ]
     },
     "execution_count": 17,
     "metadata": {},
     "output_type": "execute_result"
    }
   ],
   "source": [
    "df.query('premature_stop').shape"
   ]
  },
  {
   "cell_type": "code",
   "execution_count": 18,
   "id": "4a08f80d-3528-415f-86d2-de7cbf082a8d",
   "metadata": {},
   "outputs": [
    {
     "data": {
      "text/plain": [
       "<AxesSubplot:title={'center':'Premature stops (n=9504/108350)'}>"
      ]
     },
     "execution_count": 18,
     "metadata": {},
     "output_type": "execute_result"
    },
    {
     "data": {
      "image/png": "[encoded data removed]",
      "text/plain": [
       "<Figure size 432x288 with 1 Axes>"
      ]
     },
     "metadata": {
      "needs_background": "light"
     },
     "output_type": "display_data"
    }
   ],
   "source": [
    "df.query('premature_stop')['category'].value_counts().plot.bar(title='Premature stops (n=9504/108350)')"
   ]
  },
  {
   "cell_type": "code",
   "execution_count": 22,
   "id": "1148cad6-af8c-4dc7-9ccb-15c4259683ce",
   "metadata": {},
   "outputs": [
    {
     "data": {
      "text/plain": [
       "0.08771573604060914"
      ]
     },
     "execution_count": 22,
     "metadata": {},
     "output_type": "execute_result"
    }
   ],
   "source": [
    "9504/108350"
   ]
  },
  {
   "cell_type": "code",
   "execution_count": 26,
   "id": "67bc3123-3253-4f25-8ea9-c8dd72523f58",
   "metadata": {},
   "outputs": [
    {
     "data": {
      "text/plain": [
       "0.07131518227964928"
      ]
     },
     "execution_count": 26,
     "metadata": {},
     "output_type": "execute_result"
    }
   ],
   "source": [
    "df.query('odd_length').shape[0] / df.shape[0]"
   ]
  },
  {
   "cell_type": "code",
   "execution_count": 27,
   "id": "bfbf3d87-845b-4dc4-b950-1c3ba74e2629",
   "metadata": {},
   "outputs": [
    {
     "data": {
      "text/plain": [
       "0.08771573604060914"
      ]
     },
     "execution_count": 27,
     "metadata": {},
     "output_type": "execute_result"
    }
   ],
   "source": [
    "df.query('premature_stop').shape[0] / df.shape[0]"
   ]
  },
  {
   "cell_type": "code",
   "execution_count": 28,
   "id": "d0d03d20-5b85-4cb8-af99-3b4a3b8eb79a",
   "metadata": {},
   "outputs": [
    {
     "data": {
      "text/plain": [
       "0.09947392708814029"
      ]
     },
     "execution_count": 28,
     "metadata": {},
     "output_type": "execute_result"
    }
   ],
   "source": [
    "# 10% of the 16genome sequences have odd ORF (premature stop or odd length)\n",
    "df.query('odd_length or premature_stop').shape[0] / df.shape[0]"
   ]
  },
  {
   "cell_type": "code",
   "execution_count": 35,
   "id": "1f3c1137-39aa-47ce-b2cf-c7a3eeb09afd",
   "metadata": {},
   "outputs": [
    {
     "data": {
      "text/plain": [
       "<AxesSubplot:xlabel='strain'>"
      ]
     },
     "execution_count": 35,
     "metadata": {},
     "output_type": "execute_result"
    },
    {
     "data": {
      "image/png": "[encoded data removed]",
      "text/plain": [
       "<Figure size 432x288 with 1 Axes>"
      ]
     },
     "metadata": {
      "needs_background": "light"
     },
     "output_type": "display_data"
    }
   ],
   "source": [
    "(df.query('odd_length or premature_stop').groupby('strain').handle.nunique() / df.groupby('strain').handle.nunique() * 100).plot.bar()"
   ]
  },
  {
   "cell_type": "code",
   "execution_count": 20,
   "id": "556a0ceb-11c1-41b4-902d-a53a08340f3e",
   "metadata": {},
   "outputs": [
    {
     "data": {
      "text/plain": [
       "(9504, 7)"
      ]
     },
     "execution_count": 20,
     "metadata": {},
     "output_type": "execute_result"
    }
   ],
   "source": [
    "df.query('premature_stop').shape"
   ]
  },
  {
   "cell_type": "code",
   "execution_count": 21,
   "id": "79abd910-031e-4d85-b53e-2d64b873533e",
   "metadata": {},
   "outputs": [
    {
     "ename": "AttributeError",
     "evalue": "'DataFrameGroupBy' object has no attribute 'value_counts'",
     "output_type": "error",
     "traceback": [
      "\u001b[0;31m---------------------------------------------------------------------------\u001b[0m",
      "\u001b[0;31mAttributeError\u001b[0m                            Traceback (most recent call last)",
      "\u001b[0;32m/tmp/ipykernel_92330/3966071004.py\u001b[0m in \u001b[0;36m<module>\u001b[0;34m\u001b[0m\n\u001b[0;32m----> 1\u001b[0;31m \u001b[0mdata\u001b[0m \u001b[0;34m=\u001b[0m \u001b[0mdf\u001b[0m\u001b[0;34m.\u001b[0m\u001b[0mquery\u001b[0m\u001b[0;34m(\u001b[0m\u001b[0;34m'premature_stop'\u001b[0m\u001b[0;34m)\u001b[0m\u001b[0;34m.\u001b[0m\u001b[0mgroupby\u001b[0m\u001b[0;34m(\u001b[0m\u001b[0;34m'strain'\u001b[0m\u001b[0;34m,\u001b[0m \u001b[0mas_index\u001b[0m\u001b[0;34m=\u001b[0m\u001b[0;32mFalse\u001b[0m\u001b[0;34m)\u001b[0m\u001b[0;34m[\u001b[0m\u001b[0;34m'category'\u001b[0m\u001b[0;34m]\u001b[0m\u001b[0;34m.\u001b[0m\u001b[0mvalue_counts\u001b[0m\u001b[0;34m(\u001b[0m\u001b[0;34m)\u001b[0m\u001b[0;34m\u001b[0m\u001b[0;34m\u001b[0m\u001b[0m\n\u001b[0m\u001b[1;32m      2\u001b[0m \u001b[0mg\u001b[0m \u001b[0;34m=\u001b[0m \u001b[0msns\u001b[0m\u001b[0;34m.\u001b[0m\u001b[0mbarplot\u001b[0m\u001b[0;34m(\u001b[0m\u001b[0mx\u001b[0m\u001b[0;34m=\u001b[0m\u001b[0;34m'category'\u001b[0m\u001b[0;34m,\u001b[0m\u001b[0my\u001b[0m\u001b[0;34m=\u001b[0m\u001b[0;34m'count'\u001b[0m\u001b[0;34m,\u001b[0m\u001b[0mhue\u001b[0m\u001b[0;34m=\u001b[0m\u001b[0;34m'strain'\u001b[0m\u001b[0;34m,\u001b[0m\u001b[0mdata\u001b[0m\u001b[0;34m=\u001b[0m\u001b[0mdata\u001b[0m\u001b[0;34m)\u001b[0m\u001b[0;34m\u001b[0m\u001b[0;34m\u001b[0m\u001b[0m\n\u001b[1;32m      3\u001b[0m \u001b[0mplt\u001b[0m\u001b[0;34m.\u001b[0m\u001b[0mlegend\u001b[0m\u001b[0;34m(\u001b[0m\u001b[0mbbox_to_anchor\u001b[0m\u001b[0;34m=\u001b[0m\u001b[0;34m(\u001b[0m\u001b[0;36m1.02\u001b[0m\u001b[0;34m,\u001b[0m \u001b[0;36m1\u001b[0m\u001b[0;34m)\u001b[0m\u001b[0;34m,\u001b[0m \u001b[0mloc\u001b[0m\u001b[0;34m=\u001b[0m\u001b[0;34m'upper left'\u001b[0m\u001b[0;34m,\u001b[0m \u001b[0mborderaxespad\u001b[0m\u001b[0;34m=\u001b[0m\u001b[0;36m0\u001b[0m\u001b[0;34m)\u001b[0m\u001b[0;34m\u001b[0m\u001b[0;34m\u001b[0m\u001b[0m\n\u001b[1;32m      4\u001b[0m \u001b[0mg\u001b[0m\u001b[0;34m.\u001b[0m\u001b[0mset_xticklabels\u001b[0m\u001b[0;34m(\u001b[0m\u001b[0mg\u001b[0m\u001b[0;34m.\u001b[0m\u001b[0mget_xticklabels\u001b[0m\u001b[0;34m(\u001b[0m\u001b[0;34m)\u001b[0m\u001b[0;34m,\u001b[0m\u001b[0mrotation\u001b[0m\u001b[0;34m=\u001b[0m\u001b[0;36m30\u001b[0m\u001b[0;34m)\u001b[0m\u001b[0;34m\u001b[0m\u001b[0;34m\u001b[0m\u001b[0m\n\u001b[1;32m      5\u001b[0m \u001b[0mg\u001b[0m\u001b[0;34m.\u001b[0m\u001b[0mset_ylim\u001b[0m\u001b[0;34m(\u001b[0m\u001b[0;36m0\u001b[0m\u001b[0;34m,\u001b[0m\u001b[0;36m460\u001b[0m\u001b[0;34m)\u001b[0m\u001b[0;34m\u001b[0m\u001b[0;34m\u001b[0m\u001b[0m\n",
      "\u001b[0;32m/data/chambersmj/conda/envs/alignparse-environment/lib/python3.9/site-packages/pandas/core/groupby/groupby.py\u001b[0m in \u001b[0;36m__getattr__\u001b[0;34m(self, attr)\u001b[0m\n\u001b[1;32m    909\u001b[0m             \u001b[0;32mreturn\u001b[0m \u001b[0mself\u001b[0m\u001b[0;34m[\u001b[0m\u001b[0mattr\u001b[0m\u001b[0;34m]\u001b[0m\u001b[0;34m\u001b[0m\u001b[0;34m\u001b[0m\u001b[0m\n\u001b[1;32m    910\u001b[0m \u001b[0;34m\u001b[0m\u001b[0m\n\u001b[0;32m--> 911\u001b[0;31m         raise AttributeError(\n\u001b[0m\u001b[1;32m    912\u001b[0m             \u001b[0;34mf\"'{type(self).__name__}' object has no attribute '{attr}'\"\u001b[0m\u001b[0;34m\u001b[0m\u001b[0;34m\u001b[0m\u001b[0m\n\u001b[1;32m    913\u001b[0m         )\n",
      "\u001b[0;31mAttributeError\u001b[0m: 'DataFrameGroupBy' object has no attribute 'value_counts'"
     ]
    }
   ],
   "source": [
    "data = df.query('premature_stop').groupby('strain', as_index=False)['category'].value_counts()\n",
    "g = sns.barplot(x='category',y='count',hue='strain',data=data)\n",
    "plt.legend(bbox_to_anchor=(1.02, 1), loc='upper left', borderaxespad=0)\n",
    "g.set_xticklabels(g.get_xticklabels(),rotation=30)\n",
    "g.set_ylim(0,460)\n",
    "g.set_title('Premature Stop Codon (n=9604/108350)')"
   ]
  },
  {
   "cell_type": "code",
   "execution_count": null,
   "id": "c4b94c12-7880-4653-a38d-599a3ac06cea",
   "metadata": {},
   "outputs": [],
   "source": [
    "df.query('odd_length').shape"
   ]
  },
  {
   "cell_type": "code",
   "execution_count": null,
   "id": "e0865336-998d-4d04-aa76-fa9da857b445",
   "metadata": {},
   "outputs": [],
   "source": [
    "data = df.query('odd_length').groupby('strain', as_index=False)['category'].value_counts()\n",
    "g = sns.barplot(x='category',y='count',hue='strain',data=data)\n",
    "plt.legend(bbox_to_anchor=(1.02, 1), loc='upper left', borderaxespad=0)\n",
    "g.set_xticklabels(g.get_xticklabels(),rotation=30)\n",
    "g.set_title('Length NOT divisible by 3 (n=7727/108350)')\n",
    "g.set_ylim(0,460)"
   ]
  },
  {
   "cell_type": "code",
   "execution_count": null,
   "id": "d672e0c9-94dc-4cbb-baaa-16cfc2d9dcad",
   "metadata": {},
   "outputs": [],
   "source": [
    "df.query('odd_length and premature_stop').shape"
   ]
  },
  {
   "cell_type": "code",
   "execution_count": null,
   "id": "e72f2cad-005b-4d5a-ac8c-96263961eed6",
   "metadata": {},
   "outputs": [],
   "source": [
    "data = df.query('odd_length and premature_stop').groupby('strain', as_index=False)['category'].value_counts()\n",
    "g = sns.barplot(x='category',y='count',hue='strain',data=data)\n",
    "plt.legend(bbox_to_anchor=(1.02, 1), loc='upper left', borderaxespad=0)\n",
    "g.set_xticklabels(g.get_xticklabels(),rotation=30)\n",
    "g.set_title('Premature stop and length NOT divisible by 3 (n=6453/108350)')\n",
    "g.set_ylim(0,460)"
   ]
  },
  {
   "cell_type": "code",
   "execution_count": null,
   "id": "70a77d3b-8ea9-46b0-831b-52b966b6ebb4",
   "metadata": {},
   "outputs": [],
   "source": [
    "fig, axes = plt.subplots(1, 3, figsize=(15, 5), sharey=True)\n",
    "\n",
    "data = df.query('premature_stop').groupby('strain', as_index=False)['category'].value_counts()\n",
    "g = sns.barplot(ax=axes[0],x='category',y='count',hue='strain',data=data)\n",
    "plt.legend(bbox_to_anchor=(1.02, 1), loc='upper left', borderaxespad=0)\n",
    "g.set_xticklabels(g.get_xticklabels(),rotation=30)\n",
    "g.set_ylim(0,460)\n",
    "g.legend_.remove()\n",
    "g.set_title('Premature Stop Codon (n=9604/108350)')\n",
    "\n",
    "data = df.query('odd_length').groupby('strain', as_index=False)['category'].value_counts()\n",
    "g = sns.barplot(ax=axes[1], x='category',y='count',hue='strain',data=data)\n",
    "plt.legend(bbox_to_anchor=(1.02, 1), loc='upper left', borderaxespad=0)\n",
    "g.set_xticklabels(g.get_xticklabels(),rotation=30)\n",
    "g.set_title('Length NOT divisible by 3 (n=7727/108350)')\n",
    "g.set_ylim(0,460)\n",
    "g.legend_.remove()\n",
    "\n",
    "data = df.query('odd_length and premature_stop').groupby('strain', as_index=False)['category'].value_counts()\n",
    "g = sns.barplot(ax=axes[2], x='category',y='count',hue='strain',data=data)\n",
    "plt.legend(bbox_to_anchor=(1.02, 1), loc='upper left', borderaxespad=0)\n",
    "g.set_xticklabels(g.get_xticklabels(),rotation=30)\n",
    "g.set_title('Premature stop AND odd length (n=6453/108350)')\n",
    "g.set_ylim(0,460)"
   ]
  },
  {
   "cell_type": "code",
   "execution_count": null,
   "id": "98adb6ea-ac20-4ba1-b39d-7a4c7cac0aa0",
   "metadata": {},
   "outputs": [],
   "source": [
    "df.query('odd_length and premature_stop')['premature_stop'].sum()"
   ]
  },
  {
   "cell_type": "code",
   "execution_count": null,
   "id": "5bc18435-c6c7-4b9f-a2a1-38eb1374eef9",
   "metadata": {},
   "outputs": [],
   "source": []
  }
 ],
 "metadata": {
  "kernelspec": {
   "display_name": "Python 3 (ipykernel)",
   "language": "python",
   "name": "python3"
  },
  "language_info": {
   "codemirror_mode": {
    "name": "ipython",
    "version": 3
   },
   "file_extension": ".py",
   "mimetype": "text/x-python",
   "name": "python",
   "nbconvert_exporter": "python",
   "pygments_lexer": "ipython3",
   "version": "3.10.9"
  }
 },
 "nbformat": 4,
 "nbformat_minor": 5
}
