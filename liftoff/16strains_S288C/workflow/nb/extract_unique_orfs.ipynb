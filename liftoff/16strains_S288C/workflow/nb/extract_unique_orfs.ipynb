{
 "cells": [
  {
   "cell_type": "markdown",
   "id": "03a5bdcb-b663-4e4c-9011-b24f15e04c44",
   "metadata": {},
   "source": [
    "# Notes\n",
    "- odd: ref blasted against ref results in 18 sequences that don't get hits and look like they're unique\n",
    "    - is there a better way to screen for \"like\" protein sequences?\n",
    "    - why are these not getting hit in the blast database?\n",
    "        - make a mini database and blast against?"
   ]
  },
  {
   "cell_type": "code",
   "execution_count": 1,
   "id": "83f591ff-89c5-40e8-9c57-fed21d873ff9",
   "metadata": {},
   "outputs": [],
   "source": [
    "import pandas as pd\n",
    "from Bio import SeqIO\n",
    "import re"
   ]
  },
  {
   "cell_type": "code",
   "execution_count": 2,
   "id": "281ab7be-42b7-4b61-b55b-d162f1af2a52",
   "metadata": {},
   "outputs": [],
   "source": [
    "samples = ['ref','MSY24','MSY25']"
   ]
  },
  {
   "cell_type": "code",
   "execution_count": 3,
   "id": "9604a379-3267-406f-abb1-af7bc4577faf",
   "metadata": {},
   "outputs": [],
   "source": [
    "cols=headers=['query','target','pident','length','mismatch','gapopen','qstart','qend','tstart','tend','evalue','bitscore']"
   ]
  },
  {
   "cell_type": "code",
   "execution_count": 18,
   "id": "106e3bf1-07a3-4e6b-8f6a-d6846b3181d7",
   "metadata": {},
   "outputs": [],
   "source": [
    "# test ref against ref\n",
    "orfs_file=f'../data/orfs/ref_orfs.fa'\n",
    "all_orfs = []\n",
    "with open(orfs_files, \"r\") as f:\n",
    "    for record in SeqIO.parse(f, \"fasta\"):\n",
    "        all_orfs.append(record.description.split(' ')[0])\n",
    "\n",
    "all_orfs = set(all_orfs)"
   ]
  },
  {
   "cell_type": "code",
   "execution_count": 19,
   "id": "11eb51a7-4d55-441a-a031-c30b7e494a74",
   "metadata": {},
   "outputs": [],
   "source": [
    "# hit orfs\n",
    "df=pd.read_csv('../data/blast_out/ref/ref-ref_blast.tsv',sep='\\t', names=cols)\n",
    "hit_orfs = set(df['query'].tolist())"
   ]
  },
  {
   "cell_type": "code",
   "execution_count": 25,
   "id": "f90396a0-d9c5-44e5-a892-3d343d22c032",
   "metadata": {},
   "outputs": [
    {
     "data": {
      "text/plain": [
       "18"
      ]
     },
     "execution_count": 25,
     "metadata": {},
     "output_type": "execute_result"
    }
   ],
   "source": [
    "# why are there 18 sequences that don't blast themselves\n",
    "len(all_orfs) - len(hit_orfs)"
   ]
  },
  {
   "cell_type": "code",
   "execution_count": 31,
   "id": "a4ac0b01-c286-4196-b66c-8c9c5ec585fa",
   "metadata": {},
   "outputs": [],
   "source": [
    "unique_orfs = all_orfs - hit_orfs"
   ]
  },
  {
   "cell_type": "code",
   "execution_count": 32,
   "id": "838748aa-a37e-40d8-8dd3-a1fb50e43f5d",
   "metadata": {},
   "outputs": [],
   "source": [
    "orfs_file=f'../data/orfs/ref_orfs.fa'\n",
    "unique_orfs_output = \"ref_unique.fa\"\n",
    "\n",
    "fasta_sequences = SeqIO.parse(open(orfs_file),'fasta')\n",
    "with open(unique_orfs_output, \"w\") as f:\n",
    "    for seq in fasta_sequences:\n",
    "        if seq.description.split(' ')[0] in unique_orfs:\n",
    "            SeqIO.write([seq], f, \"fasta\")"
   ]
  },
  {
   "cell_type": "code",
   "execution_count": 44,
   "id": "d1f291a3-8cec-454e-b542-edecc9b5ba59",
   "metadata": {},
   "outputs": [],
   "source": [
    "# get unique orfs for each genome (compare to each blast output)\n",
    "# this is taking some time\n",
    "samples = ['ref','MSY24','MSY25']\n",
    "\n",
    "\n",
    "all_unique = {} # store all the unique orfs in blast comparison\n",
    "for sample in samples:\n",
    "    # get all orfs set in ref\n",
    "    orfs_file=f'../data/orfs/{sample}_orfs.fa'\n",
    "    all_orfs = []\n",
    "    with open(orfs_file, \"r\") as f:\n",
    "        for record in SeqIO.parse(f, \"fasta\"):\n",
    "            all_orfs.append(record.description.split(' ')[0])\n",
    "    all_orfs = set(all_orfs)\n",
    "\n",
    "    # get hits\n",
    "    hit_sets = {}\n",
    "    unique_orfs = {}\n",
    "    for i in samples:\n",
    "        df=pd.read_csv(f'../data/blast_out/ref/ref-{i}_blast.tsv',sep='\\t', names=cols)\n",
    "        hits = set(df['query'].tolist())\n",
    "        hit_sets[i] = hits\n",
    "        \n",
    "        # get unique orfs\n",
    "        unique_orfs[i] = all_orfs - hits\n",
    "        \n",
    "        # write unique orfs to fasta file\n",
    "        fasta_output = f\"{sample}-{i}_unique.fa\"\n",
    "        fasta_sequences = SeqIO.parse(open(orfs_file),'fasta')\n",
    "        with open(fasta_output, \"w\") as f:\n",
    "            for seq in fasta_sequences:\n",
    "                if seq.description.split(' ')[0] in unique_orfs[i]:\n",
    "                    SeqIO.write([seq], f, \"fasta\")\n",
    "    \n",
    "    # store the unique sets\n",
    "    all_unique[sample] = unique_orfs"
   ]
  },
  {
   "cell_type": "code",
   "execution_count": 34,
   "id": "f1f2d8f5-4803-4f34-84f8-6f97e6448349",
   "metadata": {},
   "outputs": [],
   "source": [
    "hit_sets = {}\n",
    "for i in samples:\n",
    "    df=pd.read_csv(f'../data/blast_out/ref/ref-{i}_blast.tsv',sep='\\t', names=cols)\n",
    "    hits = set(df['query'].tolist())\n",
    "    hit_sets[i] = hits"
   ]
  },
  {
   "cell_type": "code",
   "execution_count": 36,
   "id": "5ed5cf5b-cc47-4292-b8c7-151efec99a0d",
   "metadata": {},
   "outputs": [],
   "source": [
    "# show unique orfs\n",
    "unique_orfs = {}\n",
    "for key,value in hit_sets.items():\n",
    "    unique_orfs[key] = all_orfs - value"
   ]
  },
  {
   "cell_type": "code",
   "execution_count": 37,
   "id": "9a5f6f99-f9e6-4745-a364-2fb03c4cf6be",
   "metadata": {},
   "outputs": [
    {
     "name": "stdout",
     "output_type": "stream",
     "text": [
      "18\n",
      "73\n",
      "21\n"
     ]
    }
   ],
   "source": [
    "for value in unique_orfs.values():\n",
    "    print(len(value))"
   ]
  },
  {
   "cell_type": "code",
   "execution_count": 40,
   "id": "ed9815fd-1b7c-46e3-ae48-cb52e8539e77",
   "metadata": {},
   "outputs": [
    {
     "name": "stdout",
     "output_type": "stream",
     "text": [
      "0\n",
      "60\n",
      "3\n"
     ]
    }
   ],
   "source": [
    "for i in samples:\n",
    "    print(len(unique_orfs[i] - unique_orfs['ref']))"
   ]
  },
  {
   "cell_type": "code",
   "execution_count": 5,
   "id": "825f97a6-bb53-42dd-b5ca-96c7393ac1fc",
   "metadata": {},
   "outputs": [],
   "source": [
    "# get all the ref sets\n",
    "set_list = []\n",
    "for i in samples:\n",
    "    df=pd.read_csv('../data/blast_out/ref/ref-ref_blast.tsv',sep='\\t', names=cols)\n",
    "    hits = set(df['query'].tolist())"
   ]
  },
  {
   "cell_type": "code",
   "execution_count": 43,
   "id": "d58eadc0-9846-42f3-a274-f4470311b006",
   "metadata": {},
   "outputs": [],
   "source": [
    "msy24_hits = set(df['query'].tolist())"
   ]
  },
  {
   "cell_type": "code",
   "execution_count": 44,
   "id": "0cfb0a2a-352c-48f1-8451-93b4563dac5a",
   "metadata": {},
   "outputs": [],
   "source": [
    "# need to get fasta headers to a list\n",
    "all_orfs='../msy24_orfs.fa'\n",
    "msy24_orfs = []\n",
    "with open(all_orfs, \"r\") as f:\n",
    "    for record in SeqIO.parse(f, \"fasta\"):\n",
    "        msy24_orfs.append(record.description.split(' ')[0])"
   ]
  },
  {
   "cell_type": "code",
   "execution_count": 45,
   "id": "4d24eedf-1848-4409-b7e3-95b831331f3b",
   "metadata": {},
   "outputs": [],
   "source": [
    "msy24_orfs = set(msy24_orfs)"
   ]
  },
  {
   "cell_type": "code",
   "execution_count": 46,
   "id": "5e5205ce-5d63-4400-aec2-05c4761c686a",
   "metadata": {},
   "outputs": [],
   "source": [
    "unique_orfs = msy24_orfs - msy24_hits"
   ]
  },
  {
   "cell_type": "code",
   "execution_count": 58,
   "id": "e61d1dbb-7090-4e55-93d4-62ed680ea6e1",
   "metadata": {},
   "outputs": [],
   "source": [
    "unique_orfs_output = \"msy24-chr2_unique.fa\"\n",
    "\n",
    "fasta_sequences = SeqIO.parse(open(all_orfs),'fasta')\n",
    "with open(unique_orfs_output, \"w\") as f:\n",
    "    for seq in fasta_sequences:\n",
    "        if seq.description.split(' ')[0] in unique_orfs:\n",
    "            SeqIO.write([seq], f, \"fasta\")"
   ]
  },
  {
   "cell_type": "code",
   "execution_count": null,
   "id": "24933561-63d8-4ae5-954c-1f083be9c2f8",
   "metadata": {},
   "outputs": [],
   "source": []
  }
 ],
 "metadata": {
  "kernelspec": {
   "display_name": "Python 3",
   "language": "python",
   "name": "python3"
  },
  "language_info": {
   "codemirror_mode": {
    "name": "ipython",
    "version": 3
   },
   "file_extension": ".py",
   "mimetype": "text/x-python",
   "name": "python",
   "nbconvert_exporter": "python",
   "pygments_lexer": "ipython3",
   "version": "3.9.1"
  }
 },
 "nbformat": 4,
 "nbformat_minor": 5
}
