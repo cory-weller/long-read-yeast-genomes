{
 "cells": [
  {
   "cell_type": "code",
   "execution_count": null,
   "id": "3eaa0d18-23b7-4c66-ab3f-c1e4b453f8a3",
   "metadata": {},
   "outputs": [],
   "source": [
    "# make second table of all blast hits to s288c-orfs for meru"
   ]
  },
  {
   "cell_type": "code",
   "execution_count": 1,
   "id": "00e3fd31-f2ee-4e6e-8054-9d5b08cbc363",
   "metadata": {},
   "outputs": [],
   "source": [
    "import pandas as pd\n",
    "from Bio import SeqIO\n",
    "from Bio.Seq import Seq\n",
    "import re\n",
    "import numpy as np\n",
    "import seaborn as sns"
   ]
  },
  {
   "cell_type": "code",
   "execution_count": null,
   "id": "793fa7ee-a896-4b93-b5a3-a42b1e17b0b0",
   "metadata": {},
   "outputs": [],
   "source": [
    "# cat *.tsv > all.tsv"
   ]
  },
  {
   "cell_type": "code",
   "execution_count": 3,
   "id": "9cac96bb-f33b-4ab8-a6b0-42f793435f2b",
   "metadata": {},
   "outputs": [],
   "source": [
    "samples = ['MSY24','MSY25','MSY26','MSY27','MSY28','MSY29','MSY30','MSY31','MSY32','MSY33','MSY34','MSY35','MSY36','MSY37','MSY38','MSY39']\n",
    "blast_cols=['header','s288c_hit','percent_id','length','mismatch','gapopen','qstart','qend','tstart','tend','evalue','bitscore']\n"
   ]
  },
  {
   "cell_type": "code",
   "execution_count": 4,
   "id": "d397029f-3533-4116-8256-f3c509178725",
   "metadata": {},
   "outputs": [
    {
     "ename": "NameError",
     "evalue": "name 'df_cols' is not defined",
     "output_type": "error",
     "traceback": [
      "\u001b[0;31m---------------------------------------------------------------------------\u001b[0m",
      "\u001b[0;31mNameError\u001b[0m                                 Traceback (most recent call last)",
      "\u001b[0;32m<ipython-input-4-ed0777f57146>\u001b[0m in \u001b[0;36m<module>\u001b[0;34m\u001b[0m\n\u001b[1;32m      4\u001b[0m     \u001b[0mdf\u001b[0m\u001b[0;34m[\u001b[0m\u001b[0;34m'strain'\u001b[0m\u001b[0;34m]\u001b[0m \u001b[0;34m=\u001b[0m \u001b[0msample\u001b[0m\u001b[0;34m\u001b[0m\u001b[0m\n\u001b[1;32m      5\u001b[0m     \u001b[0;32mif\u001b[0m \u001b[0mi\u001b[0m \u001b[0;34m==\u001b[0m \u001b[0;36m0\u001b[0m\u001b[0;34m:\u001b[0m\u001b[0;34m\u001b[0m\u001b[0m\n\u001b[0;32m----> 6\u001b[0;31m         \u001b[0mfull_df\u001b[0m \u001b[0;34m=\u001b[0m \u001b[0mdf\u001b[0m\u001b[0;34m[\u001b[0m\u001b[0mdf_cols\u001b[0m\u001b[0;34m]\u001b[0m\u001b[0;34m\u001b[0m\u001b[0m\n\u001b[0m\u001b[1;32m      7\u001b[0m     \u001b[0;32melse\u001b[0m\u001b[0;34m:\u001b[0m\u001b[0;34m\u001b[0m\u001b[0m\n\u001b[1;32m      8\u001b[0m         \u001b[0mfull_df\u001b[0m \u001b[0;34m=\u001b[0m \u001b[0mfull_df\u001b[0m\u001b[0;34m.\u001b[0m\u001b[0mappend\u001b[0m\u001b[0;34m(\u001b[0m\u001b[0mdf\u001b[0m\u001b[0;34m[\u001b[0m\u001b[0mdf_cols\u001b[0m\u001b[0;34m]\u001b[0m\u001b[0;34m)\u001b[0m\u001b[0;34m\u001b[0m\u001b[0m\n",
      "\u001b[0;31mNameError\u001b[0m: name 'df_cols' is not defined"
     ]
    }
   ],
   "source": [
    "for i, sample in enumerate(samples):\n",
    "    df = pd.read_csv(f'../data/blastp_s288c_orf/{sample}.tsv', sep='\\t', names=blast_cols)\n",
    "    df['s288c_hit'] = df.s288c_hit.str[4:]\n",
    "    df['strain'] = sample\n",
    "    if i == 0:\n",
    "        full_df = df[df_cols]\n",
    "    else:\n",
    "        full_df = full_df.append(df[df_cols])"
   ]
  },
  {
   "cell_type": "code",
   "execution_count": 19,
   "id": "38a4f3aa-8f6a-472b-81e6-d83e89c987b1",
   "metadata": {},
   "outputs": [
    {
     "data": {
      "text/html": [
       "<div>\n",
       "<style scoped>\n",
       "    .dataframe tbody tr th:only-of-type {\n",
       "        vertical-align: middle;\n",
       "    }\n",
       "\n",
       "    .dataframe tbody tr th {\n",
       "        vertical-align: top;\n",
       "    }\n",
       "\n",
       "    .dataframe thead th {\n",
       "        text-align: right;\n",
       "    }\n",
       "</style>\n",
       "<table border=\"1\" class=\"dataframe\">\n",
       "  <thead>\n",
       "    <tr style=\"text-align: right;\">\n",
       "      <th></th>\n",
       "      <th>strain</th>\n",
       "      <th>query</th>\n",
       "      <th>s288c_hit</th>\n",
       "      <th>percent_id</th>\n",
       "    </tr>\n",
       "  </thead>\n",
       "  <tbody>\n",
       "    <tr>\n",
       "      <th>0</th>\n",
       "      <td>MSY24</td>\n",
       "      <td>lcl|ORF1_MSY24_chrIV:1281:1769</td>\n",
       "      <td>ORF571_s288c_chrXII:6479:6967</td>\n",
       "      <td>99.383</td>\n",
       "    </tr>\n",
       "    <tr>\n",
       "      <th>1</th>\n",
       "      <td>MSY24</td>\n",
       "      <td>lcl|ORF1_MSY24_chrIV:1281:1769</td>\n",
       "      <td>ORF567_s288c_chrXII:836:1324</td>\n",
       "      <td>99.383</td>\n",
       "    </tr>\n",
       "    <tr>\n",
       "      <th>2</th>\n",
       "      <td>MSY24</td>\n",
       "      <td>lcl|ORF1_MSY24_chrIV:1281:1769</td>\n",
       "      <td>ORF77_s288c_chrVI:46:534</td>\n",
       "      <td>99.383</td>\n",
       "    </tr>\n",
       "    <tr>\n",
       "      <th>3</th>\n",
       "      <td>MSY24</td>\n",
       "      <td>lcl|ORF1_MSY24_chrIV:1281:1769</td>\n",
       "      <td>ORF194_s288c_chrXIV:727:1215</td>\n",
       "      <td>98.765</td>\n",
       "    </tr>\n",
       "    <tr>\n",
       "      <th>4</th>\n",
       "      <td>MSY24</td>\n",
       "      <td>lcl|ORF1_MSY24_chrIV:1281:1769</td>\n",
       "      <td>ORF276_s288c_chrXIII:820:1308</td>\n",
       "      <td>98.765</td>\n",
       "    </tr>\n",
       "  </tbody>\n",
       "</table>\n",
       "</div>"
      ],
      "text/plain": [
       "  strain                           query                      s288c_hit  \\\n",
       "0  MSY24  lcl|ORF1_MSY24_chrIV:1281:1769  ORF571_s288c_chrXII:6479:6967   \n",
       "1  MSY24  lcl|ORF1_MSY24_chrIV:1281:1769   ORF567_s288c_chrXII:836:1324   \n",
       "2  MSY24  lcl|ORF1_MSY24_chrIV:1281:1769       ORF77_s288c_chrVI:46:534   \n",
       "3  MSY24  lcl|ORF1_MSY24_chrIV:1281:1769   ORF194_s288c_chrXIV:727:1215   \n",
       "4  MSY24  lcl|ORF1_MSY24_chrIV:1281:1769  ORF276_s288c_chrXIII:820:1308   \n",
       "\n",
       "   percent_id  \n",
       "0      99.383  \n",
       "1      99.383  \n",
       "2      99.383  \n",
       "3      98.765  \n",
       "4      98.765  "
      ]
     },
     "execution_count": 19,
     "metadata": {},
     "output_type": "execute_result"
    }
   ],
   "source": [
    "# now parse down the full_df\n",
    "df = full_df\n",
    "df.head()"
   ]
  },
  {
   "cell_type": "code",
   "execution_count": null,
   "id": "6a1db431-b0c5-4762-abd7-acca5ca12dfe",
   "metadata": {},
   "outputs": [],
   "source": [
    "select_cols = ['strain','header','s288c-orf_hit','percent_id','length', 'evalue']\n",
    "df = df[select_cols]"
   ]
  },
  {
   "cell_type": "code",
   "execution_count": 21,
   "id": "9dcebe49-0cf8-4e4c-a900-4cd2fe55a050",
   "metadata": {},
   "outputs": [],
   "source": [
    "cols = ['strain','header','s288c_hit','percent_id']\n",
    "df.columns = cols"
   ]
  },
  {
   "cell_type": "code",
   "execution_count": 23,
   "id": "401b2a68-a29b-49bc-8d7b-962a1653c54c",
   "metadata": {},
   "outputs": [],
   "source": [
    "df['start'] = df.header.str.split(':').str[1]\n",
    "df['end'] = df.header.str.split(':').str[2].str.split(' ').str[0]\n",
    "df['orf'] = df.header.str.split(r\"_\").str[0].str[4:]\n",
    "df['name'] = df['strain'] + \"_\" + df['orf']\n",
    "df['chr'] = df.header.str.split('_').str[2].str.split(':').str[0]\n",
    "df['strand'] = np.where(df.start < df.end, '+','-')\n",
    "df['unique_name'] = df.name + \"_\" + df.chr"
   ]
  },
  {
   "cell_type": "code",
   "execution_count": 52,
   "id": "f4a8c096-ff64-498a-8859-b9bb76e546c5",
   "metadata": {},
   "outputs": [],
   "source": [
    "# export df\n",
    "cols = ['name','chr','start','end','strand','s288c_hit','percent_id']\n",
    "df[cols].to_csv('../data/blastp_ref/orf-hits-to-s288c.csv', index=False)"
   ]
  },
  {
   "cell_type": "code",
   "execution_count": null,
   "id": "1b59ba0d-1531-42fa-a4f2-c4c65b4f4c0e",
   "metadata": {},
   "outputs": [],
   "source": [
    "# explore max percent_id"
   ]
  },
  {
   "cell_type": "code",
   "execution_count": 54,
   "id": "4e35b7d4-b84f-4312-a0b9-506430fa7154",
   "metadata": {},
   "outputs": [
    {
     "data": {
      "text/plain": [
       "100.0"
      ]
     },
     "execution_count": 54,
     "metadata": {},
     "output_type": "execute_result"
    }
   ],
   "source": [
    "df.groupby('unique_name').percent_id.max().max()"
   ]
  },
  {
   "cell_type": "code",
   "execution_count": 53,
   "id": "4dded7da-bec0-443e-a963-1b2c2f4c5dcd",
   "metadata": {},
   "outputs": [
    {
     "data": {
      "text/plain": [
       "8.197000000000001"
      ]
     },
     "execution_count": 53,
     "metadata": {},
     "output_type": "execute_result"
    }
   ],
   "source": [
    "df.groupby('unique_name').percent_id.max().min()"
   ]
  },
  {
   "cell_type": "code",
   "execution_count": 45,
   "id": "1b563b8a-57f6-47cc-8fa3-974eec88fe01",
   "metadata": {},
   "outputs": [
    {
     "data": {
      "text/plain": [
       "(297557,)"
      ]
     },
     "execution_count": 45,
     "metadata": {},
     "output_type": "execute_result"
    }
   ],
   "source": [
    "df.groupby('unique_name').percent_id.max().shape"
   ]
  },
  {
   "cell_type": "code",
   "execution_count": 46,
   "id": "d880c862-6de4-44ae-be40-75ab35a0b41e",
   "metadata": {},
   "outputs": [
    {
     "data": {
      "text/plain": [
       "297557"
      ]
     },
     "execution_count": 46,
     "metadata": {},
     "output_type": "execute_result"
    }
   ],
   "source": [
    "df.unique_name.nunique()"
   ]
  },
  {
   "cell_type": "code",
   "execution_count": 48,
   "id": "ec710ecc-5716-4344-be28-47070f94d785",
   "metadata": {},
   "outputs": [
    {
     "data": {
      "text/plain": [
       "(3019407, 11)"
      ]
     },
     "execution_count": 48,
     "metadata": {},
     "output_type": "execute_result"
    }
   ],
   "source": [
    "df.shape"
   ]
  },
  {
   "cell_type": "code",
   "execution_count": 51,
   "id": "50647718-27e2-43fd-a635-6d47c03d834c",
   "metadata": {},
   "outputs": [
    {
     "data": {
      "image/png": "[encoded data removed]",
      "text/plain": [
       "<Figure size 432x288 with 1 Axes>"
      ]
     },
     "metadata": {
      "needs_background": "light"
     },
     "output_type": "display_data"
    }
   ],
   "source": [
    "grid = sns.stripplot(x=df.groupby('unique_name').percent_id.max(), alpha=0.05)"
   ]
  },
  {
   "cell_type": "code",
   "execution_count": 55,
   "id": "3f7ad0d0-4f60-427c-8110-92c8e2f3de21",
   "metadata": {},
   "outputs": [
    {
     "data": {
      "text/plain": [
       "(297557,)"
      ]
     },
     "execution_count": 55,
     "metadata": {},
     "output_type": "execute_result"
    }
   ],
   "source": [
    "(df.groupby('unique_name').percent_id.max() < 30).shape"
   ]
  },
  {
   "cell_type": "code",
   "execution_count": null,
   "id": "965e5f8c-669b-4351-8758-ea995fe4af4b",
   "metadata": {},
   "outputs": [],
   "source": []
  }
 ],
 "metadata": {
  "kernelspec": {
   "display_name": "alignparse-environment",
   "language": "python",
   "name": "alignparse-environment"
  },
  "language_info": {
   "codemirror_mode": {
    "name": "ipython",
    "version": 3
   },
   "file_extension": ".py",
   "mimetype": "text/x-python",
   "name": "python",
   "nbconvert_exporter": "python",
   "pygments_lexer": "ipython3",
   "version": "3.7.0"
  }
 },
 "nbformat": 4,
 "nbformat_minor": 5
}
