{
 "cells": [
  {
   "cell_type": "code",
   "execution_count": 1,
   "id": "b12d41cf-f1b3-4a4f-9e32-8032b3fd044e",
   "metadata": {},
   "outputs": [],
   "source": [
    "# check blastn of 16genomes against pangenome"
   ]
  },
  {
   "cell_type": "code",
   "execution_count": 1,
   "id": "6b4e5956-97eb-43df-9588-e76b817b1ef6",
   "metadata": {},
   "outputs": [],
   "source": [
    "import pandas as pd\n",
    "import os\n",
    "import re\n",
    "from Bio.Seq import Seq\n",
    "from Bio import SeqIO"
   ]
  },
  {
   "cell_type": "code",
   "execution_count": 45,
   "id": "2845642e-fb91-4caa-838d-e65fbb83cc96",
   "metadata": {},
   "outputs": [],
   "source": [
    "file_dir = '../data/blastn/'\n",
    "\n",
    "# column names: https://www.metagenomics.wiki/tools/blast/blastn-output-format-6\n",
    "blastn_cols = ['query','target','percent_id','alignment_length','mismatch','gapopen','qstart','qend','tstart','tend','evalue','bitscore']\n",
    "\n",
    "df_list = []\n",
    "\n",
    "for n,file in enumerate(os.listdir(file_dir)):\n",
    "    df = pd.read_csv(f\"{file_dir}/{file}\", names=blastn_cols, sep='\\t')\n",
    "    df_list.append(df)\n",
    "\n",
    "df = pd.concat(df_list, axis=0, ignore_index=True)"
   ]
  },
  {
   "cell_type": "code",
   "execution_count": 23,
   "id": "085ab2fd-17d4-4eeb-8b4a-80f94cdbf1c9",
   "metadata": {},
   "outputs": [],
   "source": [
    "# map length of target (ref) sequences\n",
    "input_file = '../data/1011_pangenome/allORFs_pangenome.fasta'\n",
    "handle = []\n",
    "seq = []\n",
    "\n",
    "for record in SeqIO.parse(input_file, \"fasta\"):\n",
    "    handle.append(record.id)\n",
    "    seq.append(str(record.seq))\n",
    "    \n",
    "ref_df = pd.DataFrame({'ref_id':handle,'ref_seq':seq})\n",
    "\n",
    "ref_df['ref_len'] = ref_df.ref_seq.str.len()\n",
    "\n",
    "ref_map = dict(zip(ref_df.ref_id, ref_df.ref_len))"
   ]
  },
  {
   "cell_type": "code",
   "execution_count": 46,
   "id": "c9b85ae9-dad2-4e62-99c9-05b3cfb3b0f2",
   "metadata": {},
   "outputs": [],
   "source": [
    "df['tseq_len'] = df.target.map(ref_map)"
   ]
  },
  {
   "cell_type": "code",
   "execution_count": 53,
   "id": "c29c4ff7-cc6f-4e27-a759-2d47629c8709",
   "metadata": {},
   "outputs": [],
   "source": [
    "# percent id whole\n",
    "df['percent_id_whole'] = (((df.alignment_length) / df.tseq_len) * df.percent_id/100)"
   ]
  },
  {
   "cell_type": "code",
   "execution_count": 56,
   "id": "6f89d20d-1989-4805-b148-e87c1a300570",
   "metadata": {},
   "outputs": [],
   "source": [
    "idx = df.groupby('query')['percent_id_whole'].transform(max) == df['percent_id_whole']\n",
    "top_df = df[idx]"
   ]
  },
  {
   "cell_type": "code",
   "execution_count": 78,
   "id": "ab964889-9d3f-4368-88f8-81f4af5d3b4b",
   "metadata": {},
   "outputs": [
    {
     "name": "stderr",
     "output_type": "stream",
     "text": [
      "/var/folders/fq/q1cflf795cgbnmbhdyn8d9nntyw5jt/T/ipykernel_28968/2143554001.py:1: SettingWithCopyWarning: \n",
      "A value is trying to be set on a copy of a slice from a DataFrame.\n",
      "Try using .loc[row_indexer,col_indexer] = value instead\n",
      "\n",
      "See the caveats in the documentation: https://pandas.pydata.org/pandas-docs/stable/user_guide/indexing.html#returning-a-view-versus-a-copy\n",
      "  top_df['qstrain'] = top_df['query'].str.split('_').str[0]\n"
     ]
    }
   ],
   "source": [
    "top_df['qstrain'] = top_df['query'].str.split('_').str[0]"
   ]
  },
  {
   "cell_type": "code",
   "execution_count": 80,
   "id": "57dcc04e-1e9d-4842-85e8-ee8d73438952",
   "metadata": {},
   "outputs": [],
   "source": [
    "top_df.insert(0,'qstrain', top_df.pop('qstrain'))"
   ]
  },
  {
   "cell_type": "code",
   "execution_count": 82,
   "id": "5382e623-8dc1-41c7-aa90-89cd1870a00b",
   "metadata": {},
   "outputs": [],
   "source": [
    "top_df.to_csv('output/16strains_blastn_percent-whole.csv',index=False)"
   ]
  },
  {
   "cell_type": "code",
   "execution_count": 83,
   "id": "a23884f1-1553-426b-91b4-ae25eff440e3",
   "metadata": {},
   "outputs": [],
   "source": [
    "# there are 13 query ORFs that have identical hits in the pangenome\n",
    "top_df[top_df.groupby('query')['target'].transform('count') > 1].to_csv('output/16strains_blastn_percent-whole-duplciates.csv', index=False)"
   ]
  },
  {
   "cell_type": "code",
   "execution_count": null,
   "id": "a24ad0a9-62ae-4281-89d4-4615112014fc",
   "metadata": {},
   "outputs": [],
   "source": []
  },
  {
   "cell_type": "code",
   "execution_count": 87,
   "id": "a0d9c449-a572-447b-975e-7a4dc63b139e",
   "metadata": {},
   "outputs": [],
   "source": [
    "# check that all 16strain ORFs are present in blastn hits\n",
    "\n",
    "file_path = '../data/16_genomes/orf_fastas'\n",
    "files = files = [ \n",
    " 'orfs_MSY24.fasta',\n",
    " 'orfs_MSY25.fasta',\n",
    " 'orfs_MSY26.fasta',\n",
    " 'orfs_MSY27.fasta',\n",
    " 'orfs_MSY28.fasta',\n",
    " 'orfs_MSY29.fasta',\n",
    " 'orfs_MSY30.fasta',\n",
    " 'orfs_MSY31.fasta',\n",
    " 'orfs_MSY32.fasta',\n",
    " 'orfs_MSY33.fasta',\n",
    " 'orfs_MSY34.fasta',\n",
    " 'orfs_MSY35.fasta',\n",
    " 'orfs_MSY36.fasta',\n",
    " 'orfs_MSY37.fasta',\n",
    " 'orfs_MSY38.fasta',\n",
    " 'orfs_MSY39.fasta'\n",
    "]\n",
    "\n",
    "strain = []\n",
    "orf = []\n",
    "seq = []\n",
    "\n",
    "for file in files:\n",
    "    input_file = f\"{file_path}/{file}\"\n",
    "\n",
    "    for record in SeqIO.parse(input_file, \"fasta\"):\n",
    "        strain.append(re.split('\\.|_', file)[1])\n",
    "        orf.append(record.id)\n",
    "        seq.append(str(record.seq))\n",
    "\n",
    "df_16 = pd.DataFrame({'strain':strain, 'orf':orf, 'seq':seq})"
   ]
  },
  {
   "cell_type": "code",
   "execution_count": 97,
   "id": "c6eb650c-3581-4d7d-b1a3-2f45613eee49",
   "metadata": {},
   "outputs": [
    {
     "data": {
      "text/html": [
       "<div>\n",
       "<style scoped>\n",
       "    .dataframe tbody tr th:only-of-type {\n",
       "        vertical-align: middle;\n",
       "    }\n",
       "\n",
       "    .dataframe tbody tr th {\n",
       "        vertical-align: top;\n",
       "    }\n",
       "\n",
       "    .dataframe thead th {\n",
       "        text-align: right;\n",
       "    }\n",
       "</style>\n",
       "<table border=\"1\" class=\"dataframe\">\n",
       "  <thead>\n",
       "    <tr style=\"text-align: right;\">\n",
       "      <th></th>\n",
       "      <th>strain</th>\n",
       "      <th>orf</th>\n",
       "      <th>seq</th>\n",
       "    </tr>\n",
       "  </thead>\n",
       "  <tbody>\n",
       "    <tr>\n",
       "      <th>0</th>\n",
       "      <td>MSY24</td>\n",
       "      <td>MSY24_gene1_additional.copy</td>\n",
       "      <td>ATGGACTTGAATCAAAGAAAGGAAAAAAGGGCCAGCATGTTGGATG...</td>\n",
       "    </tr>\n",
       "    <tr>\n",
       "      <th>1</th>\n",
       "      <td>MSY24</td>\n",
       "      <td>MSY24_gene2_dubious</td>\n",
       "      <td>ATGATGCCTGCTAAACTGCAGCTTGACGTACTGCGGACCCTGCAGT...</td>\n",
       "    </tr>\n",
       "    <tr>\n",
       "      <th>2</th>\n",
       "      <td>MSY24</td>\n",
       "      <td>MSY24_gene3_dubious</td>\n",
       "      <td>ATGGAATCTATTATCCTCAGCATTGCCATCTTTATTGGCGTCCTCC...</td>\n",
       "    </tr>\n",
       "    <tr>\n",
       "      <th>3</th>\n",
       "      <td>MSY24</td>\n",
       "      <td>MSY24_gene4_retained</td>\n",
       "      <td>ATGCGAGTTCTCATCGGAACGAAATTAGTGACTGAAGGAATTGACA...</td>\n",
       "    </tr>\n",
       "    <tr>\n",
       "      <th>4</th>\n",
       "      <td>MSY24</td>\n",
       "      <td>MSY24_gene5_retained</td>\n",
       "      <td>ATGCGTACTTTCACTGACTTTGTTTCTGGCGCACCTATTGTAAGGA...</td>\n",
       "    </tr>\n",
       "    <tr>\n",
       "      <th>...</th>\n",
       "      <td>...</td>\n",
       "      <td>...</td>\n",
       "      <td>...</td>\n",
       "    </tr>\n",
       "    <tr>\n",
       "      <th>108345</th>\n",
       "      <td>MSY39</td>\n",
       "      <td>MSY39_ORF114_ORF</td>\n",
       "      <td>TTGGTACCGGTGACAGTAGTCATTTCAGTGGAAGTCGAAGTGAAAG...</td>\n",
       "    </tr>\n",
       "    <tr>\n",
       "      <th>108346</th>\n",
       "      <td>MSY39</td>\n",
       "      <td>MSY39_ORF115_ORF</td>\n",
       "      <td>ATGTCTCAAACAAAGCTGATCAAGCCGCTGTATTTATATGAAACTT...</td>\n",
       "    </tr>\n",
       "    <tr>\n",
       "      <th>108347</th>\n",
       "      <td>MSY39</td>\n",
       "      <td>MSY39_ORF116_ORF</td>\n",
       "      <td>ATGCAATCTCCCTTGGAGAGTAACGATGCTGAATCGGATACGCTCA...</td>\n",
       "    </tr>\n",
       "    <tr>\n",
       "      <th>108348</th>\n",
       "      <td>MSY39</td>\n",
       "      <td>MSY39_ORF117_ORF</td>\n",
       "      <td>ATGCAAGCCCCTTCGGAAAATACCGATACCAAATTGGATACATCCA...</td>\n",
       "    </tr>\n",
       "    <tr>\n",
       "      <th>108349</th>\n",
       "      <td>MSY39</td>\n",
       "      <td>MSY39_ORF118_ORF</td>\n",
       "      <td>TTGTGGATCCTTCTACAGTACTTCGGAATACACCTAAAAGGTTGTT...</td>\n",
       "    </tr>\n",
       "  </tbody>\n",
       "</table>\n",
       "<p>108350 rows × 3 columns</p>\n",
       "</div>"
      ],
      "text/plain": [
       "       strain                          orf  \\\n",
       "0       MSY24  MSY24_gene1_additional.copy   \n",
       "1       MSY24          MSY24_gene2_dubious   \n",
       "2       MSY24          MSY24_gene3_dubious   \n",
       "3       MSY24         MSY24_gene4_retained   \n",
       "4       MSY24         MSY24_gene5_retained   \n",
       "...       ...                          ...   \n",
       "108345  MSY39             MSY39_ORF114_ORF   \n",
       "108346  MSY39             MSY39_ORF115_ORF   \n",
       "108347  MSY39             MSY39_ORF116_ORF   \n",
       "108348  MSY39             MSY39_ORF117_ORF   \n",
       "108349  MSY39             MSY39_ORF118_ORF   \n",
       "\n",
       "                                                      seq  \n",
       "0       ATGGACTTGAATCAAAGAAAGGAAAAAAGGGCCAGCATGTTGGATG...  \n",
       "1       ATGATGCCTGCTAAACTGCAGCTTGACGTACTGCGGACCCTGCAGT...  \n",
       "2       ATGGAATCTATTATCCTCAGCATTGCCATCTTTATTGGCGTCCTCC...  \n",
       "3       ATGCGAGTTCTCATCGGAACGAAATTAGTGACTGAAGGAATTGACA...  \n",
       "4       ATGCGTACTTTCACTGACTTTGTTTCTGGCGCACCTATTGTAAGGA...  \n",
       "...                                                   ...  \n",
       "108345  TTGGTACCGGTGACAGTAGTCATTTCAGTGGAAGTCGAAGTGAAAG...  \n",
       "108346  ATGTCTCAAACAAAGCTGATCAAGCCGCTGTATTTATATGAAACTT...  \n",
       "108347  ATGCAATCTCCCTTGGAGAGTAACGATGCTGAATCGGATACGCTCA...  \n",
       "108348  ATGCAAGCCCCTTCGGAAAATACCGATACCAAATTGGATACATCCA...  \n",
       "108349  TTGTGGATCCTTCTACAGTACTTCGGAATACACCTAAAAGGTTGTT...  \n",
       "\n",
       "[108350 rows x 3 columns]"
      ]
     },
     "execution_count": 97,
     "metadata": {},
     "output_type": "execute_result"
    }
   ],
   "source": [
    "df_16"
   ]
  },
  {
   "cell_type": "code",
   "execution_count": 101,
   "id": "9c571154-de3e-451b-94c1-fb3c294ac77f",
   "metadata": {},
   "outputs": [],
   "source": [
    "hit_set = set(top_df['query'].unique().tolist())"
   ]
  },
  {
   "cell_type": "code",
   "execution_count": 105,
   "id": "03a25f3d-36bb-432a-b770-3d553d12efac",
   "metadata": {},
   "outputs": [],
   "source": [
    "orf_set = set(df_16.orf.unique().tolist())"
   ]
  },
  {
   "cell_type": "code",
   "execution_count": 109,
   "id": "aadb5f5c-eeab-4435-b638-48dde9ae99fe",
   "metadata": {},
   "outputs": [],
   "source": [
    "unique_orfs = list(orf_set - hit_set)"
   ]
  },
  {
   "cell_type": "code",
   "execution_count": 116,
   "id": "3faa7744-f495-4556-91c3-9333b85be774",
   "metadata": {},
   "outputs": [],
   "source": [
    "df_unique = df_16[df_16['orf'].isin(unique_orfs)]"
   ]
  },
  {
   "cell_type": "code",
   "execution_count": 117,
   "id": "9297f275-9021-41c4-b63c-4489c1f8bffc",
   "metadata": {},
   "outputs": [],
   "source": [
    "df_unique.to_csv('output/16strains_blastn_unique-orfs.csv', index=False)"
   ]
  },
  {
   "cell_type": "code",
   "execution_count": 118,
   "id": "533a8e9c-d9ad-4767-8328-f0dc611cf82a",
   "metadata": {},
   "outputs": [
    {
     "data": {
      "text/plain": [
       "(1122, 3)"
      ]
     },
     "execution_count": 118,
     "metadata": {},
     "output_type": "execute_result"
    }
   ],
   "source": [
    "df_unique.shape"
   ]
  },
  {
   "cell_type": "code",
   "execution_count": 119,
   "id": "59530b10-3978-4d9f-be1f-25ea65666b8c",
   "metadata": {},
   "outputs": [
    {
     "data": {
      "text/plain": [
       "1122"
      ]
     },
     "execution_count": 119,
     "metadata": {},
     "output_type": "execute_result"
    }
   ],
   "source": [
    "df_unique.orf.nunique()"
   ]
  },
  {
   "cell_type": "code",
   "execution_count": null,
   "id": "5dde9a6c-2917-48ca-bc76-271e0c63b34b",
   "metadata": {},
   "outputs": [],
   "source": []
  }
 ],
 "metadata": {
  "kernelspec": {
   "display_name": "Python 3 (ipykernel)",
   "language": "python",
   "name": "python3"
  },
  "language_info": {
   "codemirror_mode": {
    "name": "ipython",
    "version": 3
   },
   "file_extension": ".py",
   "mimetype": "text/x-python",
   "name": "python",
   "nbconvert_exporter": "python",
   "pygments_lexer": "ipython3",
   "version": "3.10.9"
  }
 },
 "nbformat": 4,
 "nbformat_minor": 5
}
